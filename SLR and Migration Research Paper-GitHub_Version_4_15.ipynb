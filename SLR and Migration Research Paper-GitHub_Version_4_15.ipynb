{
 "cells": [
  {
   "cell_type": "markdown",
   "metadata": {},
   "source": [
    "+# Sea Level Rise Migration Research "
   ]
  },
  {
   "cell_type": "markdown",
   "metadata": {},
   "source": [
    "\n",
    "## Introduction\n",
    "This project is the analytical accompaniment to a research paper for a Populaiton Mobility class within the Demography master's program at Florida State University. \n",
    "\n",
    "Spring Semester 2021\n",
    "Submitted 4/17/2021"
   ]
  },
  {
   "cell_type": "markdown",
   "metadata": {},
   "source": [
    "## Data\n",
    "Data comes from the Federal Emergency Management Agency (FEMA) and the Internal Revenues Service (IRS).\n",
    "FEMA provides data on designated disasters for U.S. states and territories. Data includes disaster summaries, and funding total from various recovery and mitigation porgrams operated by the agency. The IRS provides state-to-state and county-to-county migration flows developed through address changes on tax return filings. The IRS's reporting procedures changed beginning with the 2011-2012 year and stop at the 2017 - 2018 year preventing a more extended analysis. "
   ]
  },
  {
   "cell_type": "code",
   "execution_count": 2,
   "metadata": {
    "scrolled": true
   },
   "outputs": [
    {
     "ename": "SyntaxError",
     "evalue": "invalid syntax (<ipython-input-2-0494ae09f81b>, line 3)",
     "output_type": "error",
     "traceback": [
      "\u001b[0;36m  File \u001b[0;32m\"<ipython-input-2-0494ae09f81b>\"\u001b[0;36m, line \u001b[0;32m3\u001b[0m\n\u001b[0;31m    import pandas as pd\u001b[0m\n\u001b[0m         ^\u001b[0m\n\u001b[0;31mSyntaxError\u001b[0m\u001b[0;31m:\u001b[0m invalid syntax\n"
     ]
    }
   ],
   "source": [
    "import pandas as pd \n",
    "import numpy as np\n",
    "import geopandas as gpd\n",
    "import matplotlib\n",
    "import matplotlib.pyplot as plt\n",
    "import requests\n",
    "import seaborn as sns\n",
    "import sys\n",
    "import os\n",
    "import urllib.request\n",
    "import json\n",
    "import math\n",
    "import statsmodels.api as sm\n",
    "import statsmodels.formula.api as smf\n",
    "from statsmodels.sandbox.regression.predstd import wls_prediction_std\n",
    "from patsy import dmatrices\n",
    "from datetime import datetime\n",
    "from sklearn import linear_model\n",
    "from stargazer.stargazer import Stargazer\n",
    "\n",
    "#\n",
    "%matplotlib inline\n",
    "\n",
    "#Adjust default map size\n",
    "matplotlib.rcParams['figure.figsize'] = [16,10]"
   ]
  },
  {
   "cell_type": "code",
   "execution_count": 2,
   "metadata": {
    "scrolled": true
   },
   "outputs": [],
   "source": [
    "pd.set_option(\"display.max_rows\", 100)\n",
    "pd.set_option(\"display.max_rows\", 100)\n",
    "pd.set_option('display.float_format', lambda x:'%.5f'%x)"
   ]
  },
  {
   "cell_type": "markdown",
   "metadata": {},
   "source": [
    "## Load IRS Migration Data"
   ]
  },
  {
   "cell_type": "code",
   "execution_count": 3,
   "metadata": {
    "scrolled": false
   },
   "outputs": [],
   "source": [
    "#Opens migration dataframes for each year the manual way\n",
    "\n",
    "col_names = ['org_state', 'org_county','dest_state', \n",
    "             'dest_county','StateAbbre','dest_description',\n",
    "             'num_returns','num_exempts','AGI']\n",
    "\n",
    "df1112 = pd.read_csv('./countyoutflow1112.csv',\n",
    "           encoding='gbk', names=col_names,low_memory=False, skiprows=1)\n",
    "df1213 = pd.read_csv('./countyoutflow1213.csv',\n",
    "           encoding='gbk', names=col_names, low_memory=False, skiprows=1)\n",
    "df1314 = pd.read_csv('./countyoutflow1314.csv',\n",
    "           encoding='gbk', names=col_names, low_memory=False, skiprows=1)\n",
    "df1415 = pd.read_csv('./countyoutflow1415.csv',\n",
    "           encoding='gbk', names=col_names, low_memory=False, skiprows=1)\n",
    "df1516 = pd.read_csv('./countyoutflow1516.csv',\n",
    "           encoding='gbk', names=col_names, low_memory=False, skiprows=1)\n",
    "df1617 = pd.read_csv('./countyoutflow1617.csv',\n",
    "           encoding='gbk', names=col_names, low_memory=False, skiprows=1)\n",
    "df1718 = pd.read_csv('./countyoutflow1718.csv',\n",
    "           encoding='gbk', names=col_names, low_memory=False, skiprows=1)\n",
    "\n",
    "        \n",
    "df_dict = {\n",
    "    1112:df1112, 1314:df1314, 1415:df1415,\n",
    "    1516:df1516, 1617:df1617, 1718:df1718}\n"
   ]
  },
  {
   "cell_type": "markdown",
   "metadata": {},
   "source": [
    "## Clean IRS Migrataion Data\n",
    "\n",
    "Migration data is provide by the Internal Revenue Service (IRS) and is based on year-to-year changes of address as reported on individual tax returns. Migration flows are avaliable at the state-to-state and the county-to-county level and are provided as inflows and as outflows. Data reported includes the number of returns filed which approximates the number of households that moved and the number of personal exemptions which approximates the number of individuals that moved. "
   ]
  },
  {
   "cell_type": "code",
   "execution_count": 4,
   "metadata": {
    "scrolled": true
   },
   "outputs": [],
   "source": [
    "#Takes raw IRS Migration dataset 2011-2018, and year label:\n",
    "#Returns a state and county dataframe in that order\n",
    "    #Adds Labels\n",
    "    #Filters\n",
    "def fix_mig_data(mig_df, year):   #<----Fix so year gets itself \n",
    "    \n",
    "    # Add year migration years to IRS migration dataframe\n",
    "    def add_mig_yr_col(mig_df, year):\n",
    "        mig_df['mig_yr'] = year\n",
    "        return mig_df\n",
    "    working = add_mig_yr_col(mig_df, year)\n",
    "    return (working)"
   ]
  },
  {
   "cell_type": "code",
   "execution_count": null,
   "metadata": {},
   "outputs": [],
   "source": []
  },
  {
   "cell_type": "markdown",
   "metadata": {},
   "source": [
    "## FEMA Disaster Declaration Summaries\n",
    "\n",
    "Fema disaster declaration summaries are provided through the OpenFEMA data repository located at https://www.fema.gov/openfema-data-page/disaster-declarations-summaries-v2. The dataset is a summarized description of all federally delcared disasters since the first disaster declaration in 1953. Three types of declaration types are included, major disaster, emergency, and fire management assistance. (### insert bit about removing any of these if removed)  "
   ]
  },
  {
   "cell_type": "code",
   "execution_count": 5,
   "metadata": {
    "scrolled": true
   },
   "outputs": [],
   "source": [
    "#Load FEMA Disaster Declaration Summaries data from local files\n",
    "dis_df = pd.read_csv('./DisasterDeclarationsSummaries.csv')\n",
    "\n",
    "#Select dates from 2009 on given migraiton data is avaliable in a continuous form from 2011-2018. Accounts for a\n",
    "# two-year lag as timing for migration data to show up in returns. \n",
    "dis_df = dis_df[(dis_df['declarationDate']>='2009-01-01T00:00:00.000Z') &\n",
    "                (dis_df['declarationDate']<= '2018-01-01T00:00:00.000Z')]\n",
    "\n",
    "#Reset index and drop old index\n",
    "dis_df = dis_df.reset_index()\n",
    "dis_df.drop('index', inplace=True, axis=1)"
   ]
  },
  {
   "cell_type": "code",
   "execution_count": 6,
   "metadata": {
    "scrolled": true
   },
   "outputs": [],
   "source": [
    "#Selects disasters by fiscal year\n",
    "def date_selector(dis_df, year):## <<---------------------------Add function for multiple years\n",
    "    #Create date selector funciton\n",
    "    dis_dfselect = dis_df[dis_df['fyDeclared'] == year]\n",
    "    return(dis_dfselect)\n",
    "    #mini_df = mini_df[['fipsStateCode','fipsCountyCode','fyDeclared']]sd"
   ]
  },
  {
   "cell_type": "markdown",
   "metadata": {},
   "source": [
    "## Merge IRS and Disaster Declarations Summaries"
   ]
  },
  {
   "cell_type": "code",
   "execution_count": 7,
   "metadata": {
    "scrolled": true
   },
   "outputs": [],
   "source": [
    "#Merge a filtered migration dataframe with a disaster dataframe that has been selected by year\n",
    "def mig_dis_merge(mig_df, dis_df): \n",
    "        merged = pd.merge(mig_df, dis_df, \n",
    "                          left_on=['org_state',\"org_county\"],\n",
    "                          right_on = ['fipsStateCode','fipsCountyCode' ], how='left')\n",
    "\n",
    "        #merged.fillna(False, inplace=True)\n",
    "       \n",
    "        #After columns are used to match in the merge reformat state and county FIPS\n",
    "        # codes to contain leading zeros\n",
    "        merged['org_state']=merged['org_state'].apply(lambda x: '{0:0>2}'.format(x))\n",
    "        merged['dest_state']=merged['dest_state'].apply(lambda x: '{0:0>2}'.format(x))\n",
    "        merged['org_county']=merged['org_county'].apply(lambda x: '{0:0>3}'.format(x))\n",
    "        merged['dest_county']=merged['dest_county'].apply(lambda x: '{0:0>3}'.format(x))\n",
    "        \n",
    "        \n",
    "        return(merged)\n",
    "\n",
    "        #Un-comment below to save to current working directory\n",
    "        #Need to fix nameing convention to distinguish between summary and non summary dfs\n",
    "        #save_name = \"merged_data.xlsx\"\n",
    "        #print(save_name)\n",
    "        #merged.to_excel(save_name)"
   ]
  },
  {
   "cell_type": "markdown",
   "metadata": {},
   "source": [
    "## Add FEMA Funding Program Summaries to Merged Datasets"
   ]
  },
  {
   "cell_type": "code",
   "execution_count": 8,
   "metadata": {
    "scrolled": true
   },
   "outputs": [],
   "source": [
    "# Load FEMA Program Data from local file \n",
    "program_df = pd.read_csv('./FemaWebDisasterSummaries_.csv')\n",
    "program_df.drop(['id','hash','lastRefresh','paLoadDate','iaLoadDate'], axis=1,inplace=True)"
   ]
  },
  {
   "cell_type": "code",
   "execution_count": 9,
   "metadata": {
    "scrolled": true
   },
   "outputs": [],
   "source": [
    "'''Merges cleaned IRS migration data with cleaned FEMA program summaries'''\n",
    "def add_program_summaries(mig_df, program_df):\n",
    "    #Get FEMA funding program summaries for each unique disaster number in our merged dataframe\n",
    "    program_ = program_df[program_df['disasterNumber'].isin(mig_df['disasterNumber'].unique())]\n",
    "    \n",
    "    #Change disaster number from float to integer\n",
    "    mig_df['disasterNumber']=mig_df['disasterNumber'].map(lambda x: int(x))\n",
    "    program_df['disasterNumber']=program_df['disasterNumber'].map(lambda x: int(x))\n",
    "    \n",
    "    merger = pd.merge(mig_df, program_df, on='disasterNumber', how=\"left\")\n",
    "    return(merger)"
   ]
  },
  {
   "cell_type": "markdown",
   "metadata": {
    "scrolled": true
   },
   "source": [
    "## Add FEMA Mitigation Properties to Merged Datasets"
   ]
  },
  {
   "cell_type": "markdown",
   "metadata": {},
   "source": [
    "# Mark for later\n",
    "Section not part of \"FEMA Funding: Do they stay or do they go?\" paper but may be useful for later work"
   ]
  },
  {
   "cell_type": "code",
   "execution_count": 10,
   "metadata": {},
   "outputs": [],
   "source": [
    "# prop_df = pd.read_csv(\"./HazardMitigationAssistanceMitigatedProperties.csv\")"
   ]
  },
  {
   "cell_type": "code",
   "execution_count": 11,
   "metadata": {},
   "outputs": [],
   "source": [
    "# #Change FIPS codes in df to string, split to remove decimal and trailing 0\n",
    "# prop_df['stateNumberCode']= prop_df['stateNumberCode'].astype(str).apply(lambda x: x.split(\".\")[0]).copy()\n",
    "# prop_df['countyCode']= prop_df['countyCode'].astype(str).apply(lambda x: x.split(\".\")[0]).copy()\n",
    "# #Add leading zeros to state and county FIPS codes \n",
    "# prop_df['stateNumberCode']= prop_df['stateNumberCode'].apply(lambda x: '{0:0>2}'.format(x))\n",
    "# prop_df['countyCode']= prop_df['countyCode'].apply(lambda x: '{0:0>3}'.format(x))\n",
    "# #Combine FIPS codes to unique state-county identifier\n",
    "# prop_df['FIPS'] = prop_df['stateNumberCode']+prop_df['countyCode']"
   ]
  },
  {
   "cell_type": "code",
   "execution_count": 12,
   "metadata": {},
   "outputs": [],
   "source": [
    "# Merge FEMA Property data to big df \n",
    "#bdf = big_df.merge(prop_df,how='left', left_on=['orgFIPS','disasterNumber'],right_on=['FIPS','disasterNumber'])"
   ]
  },
  {
   "cell_type": "code",
   "execution_count": null,
   "metadata": {},
   "outputs": [],
   "source": []
  },
  {
   "cell_type": "code",
   "execution_count": null,
   "metadata": {},
   "outputs": [],
   "source": []
  },
  {
   "cell_type": "markdown",
   "metadata": {},
   "source": [
    "## Turn cleaning code into single funciton"
   ]
  },
  {
   "cell_type": "code",
   "execution_count": 13,
   "metadata": {
    "scrolled": true
   },
   "outputs": [],
   "source": [
    "def all_together(dis_dec_sums, irs_mig, dis_programs, dis_year, mig_year):\n",
    "    dis_df = date_selector(dis_dec_sums, dis_year)#<----- May be a problem here if multiple years added\n",
    "    mig_df = fix_mig_data(irs_mig, mig_year)\n",
    "    \n",
    "    mig_merged = mig_dis_merge(mig_df, dis_df)\n",
    "    \n",
    "#     #Add programs\n",
    "#     state_df = add_program_summaries(state_merged, dis_programs)\n",
    "#     county_df = add_program_summaries(county_merged, dis_programs)\n",
    "    \n",
    "    return(mig_merged)  "
   ]
  },
  {
   "cell_type": "markdown",
   "metadata": {},
   "source": [
    "## Put it all together "
   ]
  },
  {
   "cell_type": "code",
   "execution_count": 14,
   "metadata": {},
   "outputs": [],
   "source": [
    "#Processes and puts together migration and disaster program summaries from dataframes on\n",
    "# the computer. See above for adjusting file path or building out API call where avaliable.\n",
    "#Year adjustment to be used for matching disaster data with a lag.\n",
    "\n",
    "mig1112 = all_together(dis_df, df1112, program_df, 2011,'1112')\n",
    "mig1213 = all_together(dis_df, df1213, program_df, 2012,'1213')\n",
    "mig1314 = all_together(dis_df, df1314, program_df, 2013,'1314')\n",
    "mig1415 = all_together(dis_df, df1415, program_df, 2014,'1415')\n",
    "mig1516 = all_together(dis_df, df1516, program_df, 2015,'1516')\n",
    "mig1617 = all_together(dis_df, df1617, program_df, 2016,'1617')\n",
    "mig1718 = all_together(dis_df, df1718, program_df, 2017,'1718')"
   ]
  },
  {
   "cell_type": "code",
   "execution_count": 15,
   "metadata": {},
   "outputs": [],
   "source": [
    "#Create summary code combining State and County FIPS codes\n",
    "def FIPS_cats(df):\n",
    "    df['orgFIPS']= df['org_state']+df['org_county']\n",
    "    df['destFIPS']= df['dest_state']+df['dest_county']"
   ]
  },
  {
   "cell_type": "code",
   "execution_count": 16,
   "metadata": {},
   "outputs": [],
   "source": [
    "# List of project dataframes for passing to concat funciton\n",
    "data_dfs=[mig1112,\n",
    "          mig1213,\n",
    "          mig1314, \n",
    "          mig1415, \n",
    "          mig1516, \n",
    "          mig1617, \n",
    "          mig1718] \n",
    "\n",
    "#concatenate all the df in list\n",
    "big_df = pd.concat(data_dfs)\n",
    "\n",
    "#add county state FIPS codes together to create unique identifier\n",
    "FIPS_cats(big_df)\n",
    "\n",
    "# Creates a dummy variable for the non-migrant total(1 = non-migrants)\n",
    "big_df['non_mig'] = np.where(big_df['dest_description'].str.contains('Non-migrants'), 1,0)\n",
    "\n",
    "#Creates a dummy variable for a disaster occuring (1 = disaster occured)\n",
    "big_df['disasterFlag'] = np.where(big_df['disasterNumber'].isnull(), 0, 1)\n",
    "\n",
    "#Changes instances where disasterNumber was false to 0 so that it will be grouped\n",
    "big_df[\"disasterNumber\"] = big_df['disasterNumber'].fillna(0)\n",
    "\n",
    "#Creates dummy variable for rows that are state totals (1=state total)\n",
    "big_df['stateTotal_flag']=np.where(big_df['dest_description'].str.startswith('Total'), 1,0)"
   ]
  },
  {
   "cell_type": "code",
   "execution_count": 17,
   "metadata": {},
   "outputs": [],
   "source": [
    "#drop uneeded columns\n",
    "big_df.drop(['hash','lastRefresh','id'],inplace=True, axis=1)\n"
   ]
  },
  {
   "cell_type": "code",
   "execution_count": 18,
   "metadata": {},
   "outputs": [],
   "source": [
    "#Re-order to move FIPS identifiers up front\n",
    "big_df = big_df[['orgFIPS','org_state','org_county','destFIPS',\n",
    "                 'dest_state','dest_county','StateAbbre','dest_description',\n",
    "                 'num_returns','num_exempts','AGI','mig_yr','femaDeclarationString',\n",
    "                 'disasterNumber','state','declarationType','declarationDate','fyDeclared',\n",
    "                 'incidentType','declarationTitle','ihProgramDeclared','iaProgramDeclared',\n",
    "                 'paProgramDeclared','hmProgramDeclared', 'incidentBeginDate', 'incidentEndDate',\n",
    "                 'disasterCloseoutDate', 'fipsStateCode', 'fipsCountyCode', 'placeCode',\n",
    "                 'designatedArea', 'declarationRequestNumber','non_mig','disasterFlag', 'stateTotal_flag']].copy()"
   ]
  },
  {
   "cell_type": "code",
   "execution_count": 19,
   "metadata": {},
   "outputs": [],
   "source": [
    "#Filter dataset for only migrant data in disaster counties\n",
    "#big_df[(big_df['non_mig']==0)& (big_df['disasterFlag']==1)]"
   ]
  },
  {
   "cell_type": "markdown",
   "metadata": {},
   "source": [
    "## Create population totals\n",
    "This section pulls migrants and non migrants out of the big_df. We reset the index and made a new identifier investigating duplication issues. We then merged this into one dataframe for easier operations. A new column that added together the migrants and non migrants together was then put together and matched back to the big_df to add a total populaiton column."
   ]
  },
  {
   "cell_type": "code",
   "execution_count": 20,
   "metadata": {},
   "outputs": [],
   "source": [
    "non_migs= big_df[(big_df['stateTotal_flag']==0)&\n",
    "                 (big_df['non_mig']==1)][['orgFIPS', 'num_exempts',\n",
    "                                          \"non_mig\",'dest_description','mig_yr']]\n",
    "non_migs.reset_index(inplace=True, drop=True)"
   ]
  },
  {
   "cell_type": "code",
   "execution_count": 21,
   "metadata": {},
   "outputs": [],
   "source": [
    "county_migs= big_df[(big_df['stateTotal_flag']==0)&\n",
    "                    (big_df['non_mig']==0)&\n",
    "                    (big_df['destFIPS']==\"96000\")][['orgFIPS', 'num_exempts',\n",
    "                                                    \"non_mig\",'dest_description','mig_yr']]\n",
    "county_migs.reset_index(inplace=True, drop=True)"
   ]
  },
  {
   "cell_type": "code",
   "execution_count": 22,
   "metadata": {},
   "outputs": [],
   "source": [
    "#\n",
    "county_migs['fipsyr']=county_migs['orgFIPS'] + county_migs['mig_yr']\n",
    "non_migs['fipsyr']=non_migs['orgFIPS'] + non_migs['mig_yr']\n",
    "#\n",
    "countypop = county_migs.merge(non_migs, on=['fipsyr'], how='left')\n",
    "countypop = countypop[~countypop.duplicated()]"
   ]
  },
  {
   "cell_type": "code",
   "execution_count": 23,
   "metadata": {},
   "outputs": [],
   "source": [
    "countypop['totalPop'] = countypop['num_exempts_x']+countypop['num_exempts_y']"
   ]
  },
  {
   "cell_type": "code",
   "execution_count": 24,
   "metadata": {},
   "outputs": [],
   "source": [
    "countypop = countypop[['orgFIPS_x','mig_yr_x','totalPop']].copy()"
   ]
  },
  {
   "cell_type": "code",
   "execution_count": 25,
   "metadata": {},
   "outputs": [],
   "source": [
    "countypop.to_excel('./county_totals.xlsx')"
   ]
  },
  {
   "cell_type": "code",
   "execution_count": 26,
   "metadata": {},
   "outputs": [],
   "source": [
    "big_df=big_df.merge(countypop,left_on=['orgFIPS','mig_yr'], right_on=['orgFIPS_x','mig_yr_x'],how='left')"
   ]
  },
  {
   "cell_type": "code",
   "execution_count": 27,
   "metadata": {},
   "outputs": [
    {
     "data": {
      "text/html": [
       "<div>\n",
       "<style scoped>\n",
       "    .dataframe tbody tr th:only-of-type {\n",
       "        vertical-align: middle;\n",
       "    }\n",
       "\n",
       "    .dataframe tbody tr th {\n",
       "        vertical-align: top;\n",
       "    }\n",
       "\n",
       "    .dataframe thead th {\n",
       "        text-align: right;\n",
       "    }\n",
       "</style>\n",
       "<table border=\"1\" class=\"dataframe\">\n",
       "  <thead>\n",
       "    <tr style=\"text-align: right;\">\n",
       "      <th></th>\n",
       "      <th>orgFIPS</th>\n",
       "      <th>org_state</th>\n",
       "      <th>org_county</th>\n",
       "      <th>destFIPS</th>\n",
       "      <th>dest_state</th>\n",
       "      <th>dest_county</th>\n",
       "      <th>StateAbbre</th>\n",
       "      <th>dest_description</th>\n",
       "      <th>num_returns</th>\n",
       "      <th>num_exempts</th>\n",
       "      <th>...</th>\n",
       "      <th>fipsCountyCode</th>\n",
       "      <th>placeCode</th>\n",
       "      <th>designatedArea</th>\n",
       "      <th>declarationRequestNumber</th>\n",
       "      <th>non_mig</th>\n",
       "      <th>disasterFlag</th>\n",
       "      <th>stateTotal_flag</th>\n",
       "      <th>orgFIPS_x</th>\n",
       "      <th>mig_yr_x</th>\n",
       "      <th>totalPop</th>\n",
       "    </tr>\n",
       "  </thead>\n",
       "  <tbody>\n",
       "    <tr>\n",
       "      <th>5</th>\n",
       "      <td>01001</td>\n",
       "      <td>01</td>\n",
       "      <td>001</td>\n",
       "      <td>96000</td>\n",
       "      <td>96</td>\n",
       "      <td>000</td>\n",
       "      <td>AL</td>\n",
       "      <td>Autauga County Total Migration-US and Foreign</td>\n",
       "      <td>2125</td>\n",
       "      <td>4776</td>\n",
       "      <td>...</td>\n",
       "      <td>1.00000</td>\n",
       "      <td>99001.00000</td>\n",
       "      <td>Autauga (County)</td>\n",
       "      <td>11081.00000</td>\n",
       "      <td>0</td>\n",
       "      <td>1</td>\n",
       "      <td>0</td>\n",
       "      <td>01001</td>\n",
       "      <td>1112</td>\n",
       "      <td>46533.00000</td>\n",
       "    </tr>\n",
       "    <tr>\n",
       "      <th>6</th>\n",
       "      <td>01001</td>\n",
       "      <td>01</td>\n",
       "      <td>001</td>\n",
       "      <td>96000</td>\n",
       "      <td>96</td>\n",
       "      <td>000</td>\n",
       "      <td>AL</td>\n",
       "      <td>Autauga County Total Migration-US and Foreign</td>\n",
       "      <td>2125</td>\n",
       "      <td>4776</td>\n",
       "      <td>...</td>\n",
       "      <td>1.00000</td>\n",
       "      <td>99001.00000</td>\n",
       "      <td>Autauga (County)</td>\n",
       "      <td>11079.00000</td>\n",
       "      <td>0</td>\n",
       "      <td>1</td>\n",
       "      <td>0</td>\n",
       "      <td>01001</td>\n",
       "      <td>1112</td>\n",
       "      <td>46533.00000</td>\n",
       "    </tr>\n",
       "    <tr>\n",
       "      <th>85</th>\n",
       "      <td>01003</td>\n",
       "      <td>01</td>\n",
       "      <td>003</td>\n",
       "      <td>96000</td>\n",
       "      <td>96</td>\n",
       "      <td>000</td>\n",
       "      <td>AL</td>\n",
       "      <td>Baldwin County Total Migration-US and Foreign</td>\n",
       "      <td>4327</td>\n",
       "      <td>8728</td>\n",
       "      <td>...</td>\n",
       "      <td>3.00000</td>\n",
       "      <td>99003.00000</td>\n",
       "      <td>Baldwin (County)</td>\n",
       "      <td>11081.00000</td>\n",
       "      <td>0</td>\n",
       "      <td>1</td>\n",
       "      <td>0</td>\n",
       "      <td>01003</td>\n",
       "      <td>1112</td>\n",
       "      <td>152986.00000</td>\n",
       "    </tr>\n",
       "    <tr>\n",
       "      <th>86</th>\n",
       "      <td>01003</td>\n",
       "      <td>01</td>\n",
       "      <td>003</td>\n",
       "      <td>96000</td>\n",
       "      <td>96</td>\n",
       "      <td>000</td>\n",
       "      <td>AL</td>\n",
       "      <td>Baldwin County Total Migration-US and Foreign</td>\n",
       "      <td>4327</td>\n",
       "      <td>8728</td>\n",
       "      <td>...</td>\n",
       "      <td>3.00000</td>\n",
       "      <td>99003.00000</td>\n",
       "      <td>Baldwin (County)</td>\n",
       "      <td>11079.00000</td>\n",
       "      <td>0</td>\n",
       "      <td>1</td>\n",
       "      <td>0</td>\n",
       "      <td>01003</td>\n",
       "      <td>1112</td>\n",
       "      <td>152986.00000</td>\n",
       "    </tr>\n",
       "    <tr>\n",
       "      <th>247</th>\n",
       "      <td>01005</td>\n",
       "      <td>01</td>\n",
       "      <td>005</td>\n",
       "      <td>96000</td>\n",
       "      <td>96</td>\n",
       "      <td>000</td>\n",
       "      <td>AL</td>\n",
       "      <td>Barbour County Total Migration-US and Foreign</td>\n",
       "      <td>771</td>\n",
       "      <td>1599</td>\n",
       "      <td>...</td>\n",
       "      <td>5.00000</td>\n",
       "      <td>99005.00000</td>\n",
       "      <td>Barbour (County)</td>\n",
       "      <td>11081.00000</td>\n",
       "      <td>0</td>\n",
       "      <td>1</td>\n",
       "      <td>0</td>\n",
       "      <td>01005</td>\n",
       "      <td>1112</td>\n",
       "      <td>19571.00000</td>\n",
       "    </tr>\n",
       "  </tbody>\n",
       "</table>\n",
       "<p>5 rows × 38 columns</p>\n",
       "</div>"
      ],
      "text/plain": [
       "    orgFIPS org_state org_county destFIPS dest_state dest_county StateAbbre  \\\n",
       "5     01001        01        001    96000         96         000         AL   \n",
       "6     01001        01        001    96000         96         000         AL   \n",
       "85    01003        01        003    96000         96         000         AL   \n",
       "86    01003        01        003    96000         96         000         AL   \n",
       "247   01005        01        005    96000         96         000         AL   \n",
       "\n",
       "                                  dest_description  num_returns  num_exempts  \\\n",
       "5    Autauga County Total Migration-US and Foreign         2125         4776   \n",
       "6    Autauga County Total Migration-US and Foreign         2125         4776   \n",
       "85   Baldwin County Total Migration-US and Foreign         4327         8728   \n",
       "86   Baldwin County Total Migration-US and Foreign         4327         8728   \n",
       "247  Barbour County Total Migration-US and Foreign          771         1599   \n",
       "\n",
       "     ...  fipsCountyCode   placeCode    designatedArea  \\\n",
       "5    ...         1.00000 99001.00000  Autauga (County)   \n",
       "6    ...         1.00000 99001.00000  Autauga (County)   \n",
       "85   ...         3.00000 99003.00000  Baldwin (County)   \n",
       "86   ...         3.00000 99003.00000  Baldwin (County)   \n",
       "247  ...         5.00000 99005.00000  Barbour (County)   \n",
       "\n",
       "     declarationRequestNumber non_mig disasterFlag stateTotal_flag  orgFIPS_x  \\\n",
       "5                 11081.00000       0            1               0      01001   \n",
       "6                 11079.00000       0            1               0      01001   \n",
       "85                11081.00000       0            1               0      01003   \n",
       "86                11079.00000       0            1               0      01003   \n",
       "247               11081.00000       0            1               0      01005   \n",
       "\n",
       "    mig_yr_x     totalPop  \n",
       "5       1112  46533.00000  \n",
       "6       1112  46533.00000  \n",
       "85      1112 152986.00000  \n",
       "86      1112 152986.00000  \n",
       "247     1112  19571.00000  \n",
       "\n",
       "[5 rows x 38 columns]"
      ]
     },
     "execution_count": 27,
     "metadata": {},
     "output_type": "execute_result"
    }
   ],
   "source": [
    "big_df[(big_df['stateTotal_flag']==0)&\n",
    "             (big_df['non_mig']==0)&\n",
    "             (big_df['destFIPS']==\"96000\")].head()"
   ]
  },
  {
   "cell_type": "code",
   "execution_count": 28,
   "metadata": {
    "scrolled": true
   },
   "outputs": [],
   "source": [
    "#big_df.to_excel(\"/Users/jt/Desktop/Spring 2021/Population Mobility/Research Paper/JNB_Pop_Mobility/Data/Processed/big_df.xlsx\")"
   ]
  },
  {
   "cell_type": "markdown",
   "metadata": {
    "scrolled": true
   },
   "source": [
    "## Filter dataset into usable pieces"
   ]
  },
  {
   "cell_type": "code",
   "execution_count": 29,
   "metadata": {},
   "outputs": [],
   "source": [
    "#Filters big_df removing state totals and non-migrant totals to leave only county totals\n",
    "#Groups by disaster number and origin identifier\n",
    "gp_df=big_df[(big_df['stateTotal_flag']==0)&\n",
    "             (big_df['non_mig']==0)&\n",
    "             (big_df['destFIPS']==\"96000\")&\n",
    "            (big_df['num_exempts']!=-1)].groupby(['disasterNumber']).sum()\n",
    "#Changes the disaster flag back to ones and zeros\n",
    "gp_df['disasterFlag'] = np.where(gp_df['disasterFlag']>0,1,0)"
   ]
  },
  {
   "cell_type": "code",
   "execution_count": null,
   "metadata": {},
   "outputs": [],
   "source": [
    "\n"
   ]
  },
  {
   "cell_type": "code",
   "execution_count": null,
   "metadata": {},
   "outputs": [],
   "source": []
  },
  {
   "cell_type": "code",
   "execution_count": null,
   "metadata": {},
   "outputs": [],
   "source": []
  },
  {
   "cell_type": "code",
   "execution_count": 30,
   "metadata": {},
   "outputs": [],
   "source": [
    "#Reset grouped df index and merge to program data\n",
    "progs = add_program_summaries(gp_df.reset_index(),program_df)"
   ]
  },
  {
   "cell_type": "code",
   "execution_count": 31,
   "metadata": {},
   "outputs": [],
   "source": [
    "#Create columns with totals for obligated and obligated and approved dollars\n",
    "progs['totalObligated']= progs.loc[:,['totalObligatedAmountPa', \n",
    "            'totalObligatedAmountCatAb','totalObligatedAmountCatC2g',\n",
    "            'totalObligatedAmountHmgp']].sum(axis=1)\n",
    "progs['totalObligated_Approved']= progs.loc[:,['totalAmountIhpApproved','totalAmountHaApproved',\n",
    "            'totalAmountOnaApproved','totalObligatedAmountPa', \n",
    "            'totalObligatedAmountCatAb','totalObligatedAmountCatC2g',\n",
    "            'totalObligatedAmountHmgp']].sum(axis=1)"
   ]
  },
  {
   "cell_type": "code",
   "execution_count": null,
   "metadata": {},
   "outputs": [],
   "source": []
  },
  {
   "cell_type": "markdown",
   "metadata": {},
   "source": [
    "# Analysis\n",
    "\n",
    "### Beginning exploratory data analysis"
   ]
  },
  {
   "cell_type": "code",
   "execution_count": 32,
   "metadata": {
    "scrolled": true
   },
   "outputs": [],
   "source": [
    "#progs.info()"
   ]
  },
  {
   "cell_type": "code",
   "execution_count": 33,
   "metadata": {},
   "outputs": [],
   "source": [
    "#progs.describe()"
   ]
  },
  {
   "cell_type": "markdown",
   "metadata": {},
   "source": [
    "#### Note:\n",
    "Un-comment code below to find the disaster number associated with hurricane Sandy. Because of where this hit there was a lot of FEMA money spent here. Something to be aware of. "
   ]
  },
  {
   "cell_type": "code",
   "execution_count": 34,
   "metadata": {},
   "outputs": [],
   "source": [
    "# big_df[big_df['disasterNumber']==4085]\n",
    "#"
   ]
  },
  {
   "cell_type": "code",
   "execution_count": null,
   "metadata": {},
   "outputs": [],
   "source": []
  },
  {
   "cell_type": "code",
   "execution_count": 35,
   "metadata": {},
   "outputs": [
    {
     "data": {
      "text/plain": [
       "<AxesSubplot:xlabel='totalObligated', ylabel='num_exempts'>"
      ]
     },
     "execution_count": 35,
     "metadata": {},
     "output_type": "execute_result"
    },
    {
     "data": {
      "image/png": "[encoded data removed]",
      "text/plain": [
       "<Figure size 1152x720 with 1 Axes>"
      ]
     },
     "metadata": {
      "needs_background": "light"
     },
     "output_type": "display_data"
    }
   ],
   "source": [
    "progs[(progs['totalObligated']>0)].plot.scatter(x='totalObligated',y='num_exempts')"
   ]
  },
  {
   "cell_type": "code",
   "execution_count": null,
   "metadata": {},
   "outputs": [],
   "source": []
  },
  {
   "cell_type": "code",
   "execution_count": 36,
   "metadata": {},
   "outputs": [],
   "source": [
    "progs['totOb_log']= np.log(progs['totalObligated']+1)\n",
    "progs['totObAp_log']= np.log(progs['totalObligated_Approved']+1)\n",
    "progs['numexempt_log']= np.log(progs['num_exempts']+1)"
   ]
  },
  {
   "cell_type": "code",
   "execution_count": 37,
   "metadata": {},
   "outputs": [],
   "source": [
    "progs.to_excel('./progs_df.xlsx')"
   ]
  },
  {
   "cell_type": "code",
   "execution_count": 38,
   "metadata": {
    "scrolled": true
   },
   "outputs": [
    {
     "data": {
      "image/png": "[encoded data removed]",
      "text/plain": [
       "<Figure size 1152x720 with 1 Axes>"
      ]
     },
     "metadata": {
      "needs_background": "light"
     },
     "output_type": "display_data"
    }
   ],
   "source": [
    "progs[progs['totalObligated']>0].plot.scatter('totOb_log','numexempt_log',alpha=.5);"
   ]
  },
  {
   "cell_type": "code",
   "execution_count": 39,
   "metadata": {},
   "outputs": [],
   "source": [
    "# Number of instance that are surpressed in the IRS data (# surpressed = 174)\n",
    "#big_df[(big_df[\"destFIPS\"]==\"96000\")&(big_df['stateTotal_flag']==0)&(big_df['num_exempts']==-1)]"
   ]
  },
  {
   "cell_type": "markdown",
   "metadata": {},
   "source": [
    "## Big df regression analysis"
   ]
  },
  {
   "cell_type": "code",
   "execution_count": 40,
   "metadata": {},
   "outputs": [
    {
     "data": {
      "text/plain": [
       "Index(['orgFIPS', 'org_state', 'org_county', 'destFIPS', 'dest_state',\n",
       "       'dest_county', 'StateAbbre', 'dest_description', 'num_returns',\n",
       "       'num_exempts', 'AGI', 'mig_yr', 'femaDeclarationString',\n",
       "       'disasterNumber', 'state', 'declarationType', 'declarationDate',\n",
       "       'fyDeclared', 'incidentType', 'declarationTitle', 'ihProgramDeclared',\n",
       "       'iaProgramDeclared', 'paProgramDeclared', 'hmProgramDeclared',\n",
       "       'incidentBeginDate', 'incidentEndDate', 'disasterCloseoutDate',\n",
       "       'fipsStateCode', 'fipsCountyCode', 'placeCode', 'designatedArea',\n",
       "       'declarationRequestNumber', 'non_mig', 'disasterFlag',\n",
       "       'stateTotal_flag', 'orgFIPS_x', 'mig_yr_x', 'totalPop'],\n",
       "      dtype='object')"
      ]
     },
     "execution_count": 40,
     "metadata": {},
     "output_type": "execute_result"
    }
   ],
   "source": [
    "#big_df['numexempt_log']= np.log(big_df['num_exempts']+2)\n",
    "big_df.columns"
   ]
  },
  {
   "cell_type": "code",
   "execution_count": 41,
   "metadata": {},
   "outputs": [
    {
     "data": {
      "text/html": [
       "<table class=\"simpletable\">\n",
       "<caption>OLS Regression Results</caption>\n",
       "<tr>\n",
       "  <th>Dep. Variable:</th>       <td>num_exempts</td>   <th>  R-squared:         </th>  <td>   0.003</td>  \n",
       "</tr>\n",
       "<tr>\n",
       "  <th>Model:</th>                   <td>OLS</td>       <th>  Adj. R-squared:    </th>  <td>   0.003</td>  \n",
       "</tr>\n",
       "<tr>\n",
       "  <th>Method:</th>             <td>Least Squares</td>  <th>  F-statistic:       </th>  <td>   73.88</td>  \n",
       "</tr>\n",
       "<tr>\n",
       "  <th>Date:</th>             <td>Thu, 15 Apr 2021</td> <th>  Prob (F-statistic):</th>  <td>8.80e-18</td>  \n",
       "</tr>\n",
       "<tr>\n",
       "  <th>Time:</th>                 <td>23:22:23</td>     <th>  Log-Likelihood:    </th> <td>-2.6699e+05</td>\n",
       "</tr>\n",
       "<tr>\n",
       "  <th>No. Observations:</th>      <td> 24310</td>      <th>  AIC:               </th>  <td>5.340e+05</td> \n",
       "</tr>\n",
       "<tr>\n",
       "  <th>Df Residuals:</th>          <td> 24308</td>      <th>  BIC:               </th>  <td>5.340e+05</td> \n",
       "</tr>\n",
       "<tr>\n",
       "  <th>Df Model:</th>              <td>     1</td>      <th>                     </th>      <td> </td>     \n",
       "</tr>\n",
       "<tr>\n",
       "  <th>Covariance Type:</th>      <td>nonrobust</td>    <th>                     </th>      <td> </td>     \n",
       "</tr>\n",
       "</table>\n",
       "<table class=\"simpletable\">\n",
       "<tr>\n",
       "        <td></td>          <th>coef</th>     <th>std err</th>      <th>t</th>      <th>P>|t|</th>  <th>[0.025</th>    <th>0.975]</th>  \n",
       "</tr>\n",
       "<tr>\n",
       "  <th>Intercept</th>    <td> 4577.2055</td> <td>  113.607</td> <td>   40.290</td> <td> 0.000</td> <td> 4354.528</td> <td> 4799.883</td>\n",
       "</tr>\n",
       "<tr>\n",
       "  <th>disasterFlag</th> <td> 1642.1332</td> <td>  191.051</td> <td>    8.595</td> <td> 0.000</td> <td> 1267.661</td> <td> 2016.606</td>\n",
       "</tr>\n",
       "</table>\n",
       "<table class=\"simpletable\">\n",
       "<tr>\n",
       "  <th>Omnibus:</th>       <td>35036.289</td> <th>  Durbin-Watson:     </th>   <td>   1.404</td>  \n",
       "</tr>\n",
       "<tr>\n",
       "  <th>Prob(Omnibus):</th>  <td> 0.000</td>   <th>  Jarque-Bera (JB):  </th> <td>14934305.484</td>\n",
       "</tr>\n",
       "<tr>\n",
       "  <th>Skew:</th>           <td> 8.623</td>   <th>  Prob(JB):          </th>   <td>    0.00</td>  \n",
       "</tr>\n",
       "<tr>\n",
       "  <th>Kurtosis:</th>       <td>123.193</td>  <th>  Cond. No.          </th>   <td>    2.42</td>  \n",
       "</tr>\n",
       "</table><br/><br/>Notes:<br/>[1] Standard Errors assume that the covariance matrix of the errors is correctly specified."
      ],
      "text/plain": [
       "<class 'statsmodels.iolib.summary.Summary'>\n",
       "\"\"\"\n",
       "                            OLS Regression Results                            \n",
       "==============================================================================\n",
       "Dep. Variable:            num_exempts   R-squared:                       0.003\n",
       "Model:                            OLS   Adj. R-squared:                  0.003\n",
       "Method:                 Least Squares   F-statistic:                     73.88\n",
       "Date:                Thu, 15 Apr 2021   Prob (F-statistic):           8.80e-18\n",
       "Time:                        23:22:23   Log-Likelihood:            -2.6699e+05\n",
       "No. Observations:               24310   AIC:                         5.340e+05\n",
       "Df Residuals:                   24308   BIC:                         5.340e+05\n",
       "Df Model:                           1                                         \n",
       "Covariance Type:            nonrobust                                         \n",
       "================================================================================\n",
       "                   coef    std err          t      P>|t|      [0.025      0.975]\n",
       "--------------------------------------------------------------------------------\n",
       "Intercept     4577.2055    113.607     40.290      0.000    4354.528    4799.883\n",
       "disasterFlag  1642.1332    191.051      8.595      0.000    1267.661    2016.606\n",
       "==============================================================================\n",
       "Omnibus:                    35036.289   Durbin-Watson:                   1.404\n",
       "Prob(Omnibus):                  0.000   Jarque-Bera (JB):         14934305.484\n",
       "Skew:                           8.623   Prob(JB):                         0.00\n",
       "Kurtosis:                     123.193   Cond. No.                         2.42\n",
       "==============================================================================\n",
       "\n",
       "Notes:\n",
       "[1] Standard Errors assume that the covariance matrix of the errors is correctly specified.\n",
       "\"\"\""
      ]
     },
     "execution_count": 41,
     "metadata": {},
     "output_type": "execute_result"
    }
   ],
   "source": [
    "# filter removes \n",
    "y1,X1 = dmatrices(\"num_exempts ~ disasterFlag  \",\n",
    "                data=big_df[(big_df[\"destFIPS\"]==\"96000\")&\n",
    "                            (big_df['stateTotal_flag']==0)&\n",
    "                            (big_df['num_exempts']!=-1)],\n",
    "                return_type ='dataframe')\n",
    "model1 = sm.OLS(y1, X1)\n",
    "res1 = model1.fit()\n",
    "res1.summary()"
   ]
  },
  {
   "cell_type": "code",
   "execution_count": 42,
   "metadata": {},
   "outputs": [
    {
     "data": {
      "text/html": [
       "Disasters, Funding and Migration:Disaster/Migration Lin-Lin <br><table style=\"text-align:center\"><tr><td colspan=\"5\" style=\"border-bottom: 1px solid black\"></td></tr><tr><td style=\"text-align:left\"></td><td colspan=\"4\"><em>Dependent variable:num_exempts</em></td></tr><tr><td style=\"text-align:left\"></td><tr><td></td><td colspan=\"1\">Model 1</td><td colspan=\"1\">Model 2</td><td colspan=\"1\">Model 3</td><td colspan=\"1\">Model 4</td></tr><tr><td style=\"text-align:left\"></td><td>(1)</td><td>(2)</td><td>(3)</td><td>(4)</td></tr><tr><td colspan=\"5\" style=\"border-bottom: 1px solid black\"></td></tr><tr><td style=\"text-align:left\">disasterFlag</td><td>1642.133<sup>***</sup></td><td>282.545<sup>***</sup></td><td>308.760<sup>***</sup></td><td>204.819<sup>***</sup></td></tr><tr><td style=\"text-align:left\"></td><td>(191.051)</td><td>(66.093)</td><td>(67.089)</td><td>(47.643)</td></tr><tr><td style=\"text-align:left\">AGI</td><td></td><td>0.023<sup>***</sup></td><td></td><td>0.013<sup>***</sup></td></tr><tr><td style=\"text-align:left\"></td><td></td><td>(0.000)</td><td></td><td>(0.000)</td></tr><tr><td style=\"text-align:left\">totalPop</td><td></td><td></td><td>0.047<sup>***</sup></td><td>0.024<sup>***</sup></td></tr><tr><td style=\"text-align:left\"></td><td></td><td></td><td>(0.000)</td><td>(0.000)</td></tr><td colspan=\"5\" style=\"border-bottom: 1px solid black\"></td></tr><tr><td style=\"text-align: left\">Observations</td><td>24,310</td><td>24,310</td><td>24,310</td><td>24,310</td></tr><tr><td style=\"text-align: left\">R<sup>2</sup></td><td>0.003</td><td>0.881</td><td>0.877</td><td>0.938</td></tr><tr><td style=\"text-align: left\">Adjusted R<sup>2</sup></td><td>0.003</td><td>0.881</td><td>0.877</td><td>0.938</td></tr><tr><td style=\"text-align: left\">Residual Std. Error</td><td>14241.292 (df=24308)</td><td>4920.897 (df=24307)</td><td>4995.259 (df=24307)</td><td>3547.017 (df=24306)</td></tr><tr><td style=\"text-align: left\">F Statistic</td><td>73.878<sup>***</sup> (df=1; 24308)</td><td>89951.597<sup>***</sup> (df=2; 24307)</td><td>86934.226<sup>***</sup> (df=2; 24307)</td><td>122912.107<sup>***</sup> (df=3; 24306)</td></tr><tr><td colspan=\"5\" style=\"border-bottom: 1px solid black\"></td></tr><tr><td style=\"text-align: left\">Note:</td>\n",
       " <td colspan=\"4\" style=\"text-align: right\">\n",
       "  <sup>*</sup>p&lt;0.1;\n",
       "  <sup>**</sup>p&lt;0.05;\n",
       "  <sup>***</sup>p&lt;0.01\n",
       " </td></tr></table>"
      ],
      "text/plain": [
       "<stargazer.stargazer.Stargazer at 0x7f875dc121d0>"
      ]
     },
     "execution_count": 42,
     "metadata": {},
     "output_type": "execute_result"
    }
   ],
   "source": [
    "# filter removes \n",
    "y1,X1 = dmatrices(\"num_exempts ~ disasterFlag \",\n",
    "                data=big_df[(big_df[\"destFIPS\"]==\"96000\")&\n",
    "                            (big_df['stateTotal_flag']==0)&\n",
    "                            (big_df['num_exempts']!=-1)],\n",
    "                return_type ='dataframe')\n",
    "model1 = sm.OLS(y1, X1)\n",
    "res1 = model1.fit()\n",
    "\n",
    "# \n",
    "y2,X2 = dmatrices(\"num_exempts ~ disasterFlag + AGI  \",\n",
    "                data=big_df[(big_df[\"destFIPS\"]==\"96000\")&\n",
    "                            (big_df['stateTotal_flag']==0)&\n",
    "                            (big_df['num_exempts']!=-1)],\n",
    "                return_type ='dataframe')\n",
    "model2 = sm.OLS(y2, X2)\n",
    "res2 = model2.fit()\n",
    "\n",
    "#\n",
    "y3,X3 = dmatrices(\"num_exempts ~ disasterFlag + totalPop \",\n",
    "                data=big_df[(big_df[\"destFIPS\"]==\"96000\")&\n",
    "                            (big_df['stateTotal_flag']==0)&\n",
    "                            (big_df['num_exempts']!=-1)],\n",
    "                return_type ='dataframe')\n",
    "model3 = sm.OLS(y3, X3)\n",
    "res3 = model3.fit()\n",
    "\n",
    "#\n",
    "y4,X4 = dmatrices(\"num_exempts ~ disasterFlag + AGI + totalPop \",\n",
    "                data=big_df[(big_df[\"destFIPS\"]==\"96000\")&\n",
    "                            (big_df['stateTotal_flag']==0)&\n",
    "                            (big_df['num_exempts']!=-1)],\n",
    "                return_type ='dataframe')\n",
    "model4 = sm.OLS(y4, X4)\n",
    "res4 = model4.fit()\n",
    "\n",
    "stargazer=Stargazer([res1,res2,res3,res4])\n",
    "stargazer.title('Disasters, Funding and Migration:Disaster/Migration Lin-Lin ')\n",
    "stargazer.covariate_order(['disasterFlag','AGI','totalPop'])\n",
    "stargazer.custom_columns(labels=['Model 1','Model 2', 'Model 3','Model 4'],separators=[1,1,1,1])\n",
    "stargazer"
   ]
  },
  {
   "cell_type": "code",
   "execution_count": 43,
   "metadata": {
    "scrolled": false
   },
   "outputs": [
    {
     "data": {
      "text/html": [
       "Disasters, Funding, and Migration:Disaster/Migraiton Log-Lin<br><table style=\"text-align:center\"><tr><td colspan=\"5\" style=\"border-bottom: 1px solid black\"></td></tr><tr><td style=\"text-align:left\"></td><td colspan=\"4\"><em>Dependent variable:np.log(num_exempts)</em></td></tr><tr><td style=\"text-align:left\"></td><tr><td></td><td colspan=\"1\">Model 1</td><td colspan=\"1\">Model 2</td><td colspan=\"1\">Model 3</td><td colspan=\"1\">Model 4</td></tr><tr><td style=\"text-align:left\"></td><td>(1)</td><td>(2)</td><td>(3)</td><td>(4)</td></tr><tr><td colspan=\"5\" style=\"border-bottom: 1px solid black\"></td></tr><tr><td style=\"text-align:left\">disasterFlag</td><td>0.255<sup>***</sup></td><td>0.173<sup>***</sup></td><td>0.175<sup>***</sup></td><td>0.169<sup>***</sup></td></tr><tr><td style=\"text-align:left\"></td><td>(0.020)</td><td>(0.017)</td><td>(0.017)</td><td>(0.017)</td></tr><tr><td style=\"text-align:left\">AGI</td><td></td><td>0.000<sup>***</sup></td><td></td><td>0.000<sup>***</sup></td></tr><tr><td style=\"text-align:left\"></td><td></td><td>(0.000)</td><td></td><td>(0.000)</td></tr><tr><td style=\"text-align:left\">totalPop</td><td></td><td></td><td>0.000<sup>***</sup></td><td>0.000<sup>***</sup></td></tr><tr><td style=\"text-align:left\"></td><td></td><td></td><td>(0.000)</td><td>(0.000)</td></tr><td colspan=\"5\" style=\"border-bottom: 1px solid black\"></td></tr><tr><td style=\"text-align: left\">Observations</td><td>24,310</td><td>24,310</td><td>24,310</td><td>24,310</td></tr><tr><td style=\"text-align: left\">R<sup>2</sup></td><td>0.007</td><td>0.292</td><td>0.286</td><td>0.308</td></tr><tr><td style=\"text-align: left\">Adjusted R<sup>2</sup></td><td>0.007</td><td>0.292</td><td>0.286</td><td>0.308</td></tr><tr><td style=\"text-align: left\">Residual Std. Error</td><td>1.503 (df=24308)</td><td>1.268 (df=24307)</td><td>1.274 (df=24307)</td><td>1.254 (df=24306)</td></tr><tr><td style=\"text-align: left\">F Statistic</td><td>160.077<sup>***</sup> (df=1; 24308)</td><td>5021.142<sup>***</sup> (df=2; 24307)</td><td>4863.253<sup>***</sup> (df=2; 24307)</td><td>3610.122<sup>***</sup> (df=3; 24306)</td></tr><tr><td colspan=\"5\" style=\"border-bottom: 1px solid black\"></td></tr><tr><td style=\"text-align: left\">Note:</td>\n",
       " <td colspan=\"4\" style=\"text-align: right\">\n",
       "  <sup>*</sup>p&lt;0.1;\n",
       "  <sup>**</sup>p&lt;0.05;\n",
       "  <sup>***</sup>p&lt;0.01\n",
       " </td></tr></table>"
      ],
      "text/plain": [
       "<stargazer.stargazer.Stargazer at 0x7f875da96a90>"
      ]
     },
     "execution_count": 43,
     "metadata": {},
     "output_type": "execute_result"
    }
   ],
   "source": [
    "# filter removes \n",
    "y1,X1 = dmatrices(\"np.log(num_exempts) ~ disasterFlag \",\n",
    "                data=big_df[(big_df[\"destFIPS\"]==\"96000\")&\n",
    "                            (big_df['stateTotal_flag']==0)&\n",
    "                            (big_df['num_exempts']!=-1)],\n",
    "                return_type ='dataframe')\n",
    "model1 = sm.OLS(y1, X1)\n",
    "res1 = model1.fit()\n",
    "\n",
    "# \n",
    "y2,X2 = dmatrices(\"np.log(num_exempts) ~ disasterFlag + AGI  \",\n",
    "                data=big_df[(big_df[\"destFIPS\"]==\"96000\")&\n",
    "                            (big_df['stateTotal_flag']==0)&\n",
    "                            (big_df['num_exempts']!=-1)],\n",
    "                return_type ='dataframe')\n",
    "model2 = sm.OLS(y2, X2)\n",
    "res2 = model2.fit()\n",
    "\n",
    "#\n",
    "y3,X3 = dmatrices(\"np.log(num_exempts) ~ disasterFlag + totalPop \",\n",
    "                data=big_df[(big_df[\"destFIPS\"]==\"96000\")&\n",
    "                            (big_df['stateTotal_flag']==0)&\n",
    "                            (big_df['num_exempts']!=-1)],\n",
    "                return_type ='dataframe')\n",
    "model3 = sm.OLS(y3, X3)\n",
    "res3 = model3.fit()\n",
    "\n",
    "#\n",
    "y4,X4 = dmatrices(\"np.log(num_exempts) ~ disasterFlag + AGI + totalPop \",\n",
    "                data=big_df[(big_df[\"destFIPS\"]==\"96000\")&\n",
    "                            (big_df['stateTotal_flag']==0)&\n",
    "                            (big_df['num_exempts']!=-1)],\n",
    "                return_type ='dataframe')\n",
    "model4 = sm.OLS(y4, X4)\n",
    "res4 = model4.fit()\n",
    "\n",
    "stargazer=Stargazer([res1,res2,res3,res4])\n",
    "stargazer.title('Disasters, Funding, and Migration:Disaster/Migraiton Log-Lin')\n",
    "stargazer.covariate_order(['disasterFlag','AGI','totalPop'])\n",
    "stargazer.custom_columns(labels=['Model 1','Model 2', 'Model 3','Model 4'],separators=[1,1,1,1])\n",
    "stargazer"
   ]
  },
  {
   "cell_type": "code",
   "execution_count": null,
   "metadata": {},
   "outputs": [],
   "source": []
  },
  {
   "cell_type": "markdown",
   "metadata": {},
   "source": [
    "## Progs_df regression analysis"
   ]
  },
  {
   "cell_type": "code",
   "execution_count": 44,
   "metadata": {},
   "outputs": [],
   "source": [
    "#progs[progs['disasterNumber']>0]"
   ]
  },
  {
   "cell_type": "code",
   "execution_count": null,
   "metadata": {},
   "outputs": [],
   "source": []
  },
  {
   "cell_type": "code",
   "execution_count": 45,
   "metadata": {},
   "outputs": [],
   "source": [
    "# y1,X1 = dmatrices(\"num_exempts ~  totalObligated\",\n",
    "#                 data=progs[progs['disasterNumber']>0], return_type=\"dataframe\")\n",
    "# model1 = sm.OLS(y1, X1)\n",
    "# res1 = model1.fit()\n",
    "# #res1.summary()\n",
    "\n",
    "# y2,X2 = dmatrices(\"num_exempts ~  totalObligated + totalPop\",\n",
    "#                 data=progs[progs['disasterNumber']>0], return_type=\"dataframe\")\n",
    "# model2 = sm.OLS(y2, X2)\n",
    "# res2 = model2.fit()\n",
    "# #res2.summary()\n",
    "\n",
    "# y3,X3 = dmatrices(\"num_exempts ~  totalObligated+ AGI\",\n",
    "#                 data=progs[progs['disasterNumber']>0], return_type=\"dataframe\")\n",
    "# model3 = sm.OLS(y3, X3)\n",
    "# res3 = model3.fit()\n",
    "# #res3.summary()\n",
    "\n",
    "# y4,X4 = dmatrices(\"num_exempts ~  totalObligated + totalPop + AGI\",\n",
    "#                 data=progs[progs['disasterNumber']>0], return_type=\"dataframe\")\n",
    "# model4 = sm.OLS(y4, X4)\n",
    "# res4 = model4.fit()\n",
    "# #res4.summary()\n",
    "\n",
    "# stargazer=Stargazer([res1,res2,res3,res4])\n",
    "# stargazer.significant_digits(5)\n",
    "# stargazer.title('Disasters, Funding, and Migration:Program Summary Lin-Lin')\n",
    "# stargazer.covariate_order(['totalObligated','AGI','totalPop'])\n",
    "# stargazer.custom_columns(labels=['Model 1','Model 2', 'Model 3','Model 4'],\n",
    "#                          separators=[1,1,1,1])\n",
    "# stargazer"
   ]
  },
  {
   "cell_type": "markdown",
   "metadata": {},
   "source": [
    "##  Lin-Lin Programs"
   ]
  },
  {
   "cell_type": "code",
   "execution_count": 46,
   "metadata": {},
   "outputs": [
    {
     "data": {
      "text/html": [
       "Disasters, Funding, and Migration:Program Summary Lin-Lin<br><table style=\"text-align:center\"><tr><td colspan=\"6\" style=\"border-bottom: 1px solid black\"></td></tr><tr><td style=\"text-align:left\"></td><td colspan=\"5\"><em>Dependent variable:num_exempts</em></td></tr><tr><td style=\"text-align:left\"></td><tr><td></td><td colspan=\"1\">Model 1</td><td colspan=\"1\">Model 2</td><td colspan=\"1\">Model 3</td><td colspan=\"1\">Model 4</td><td colspan=\"1\">Model 5</td></tr><tr><td style=\"text-align:left\"></td><td>(1)</td><td>(2)</td><td>(3)</td><td>(4)</td><td>(5)</td></tr><tr><td colspan=\"6\" style=\"border-bottom: 1px solid black\"></td></tr><tr><td style=\"text-align:left\">totalObligated_Approved</td><td>0.00003<sup>***</sup></td><td>0.00000<sup></sup></td><td>-0.00000<sup>***</sup></td><td>-0.00000<sup>**</sup></td><td>-0.00000<sup>**</sup></td></tr><tr><td style=\"text-align:left\"></td><td>(0.00000)</td><td>(0.00000)</td><td>(0.00000)</td><td>(0.00000)</td><td>(0.00000)</td></tr><tr><td style=\"text-align:left\">AGI</td><td></td><td></td><td>0.02745<sup>***</sup></td><td>0.01774<sup>***</sup></td><td>0.01774<sup>***</sup></td></tr><tr><td style=\"text-align:left\"></td><td></td><td></td><td>(0.00023)</td><td>(0.00077)</td><td>(0.00077)</td></tr><tr><td style=\"text-align:left\">totalPop</td><td></td><td>0.05482<sup>***</sup></td><td></td><td>0.02039<sup>***</sup></td><td>0.02039<sup>***</sup></td></tr><tr><td style=\"text-align:left\"></td><td></td><td>(0.00055)</td><td></td><td>(0.00155)</td><td>(0.00155)</td></tr><tr><td style=\"text-align:left\">disasterFlag</td><td></td><td></td><td></td><td></td><td>2729.18909<sup>***</sup></td></tr><tr><td style=\"text-align:left\"></td><td></td><td></td><td></td><td></td><td>(537.25389)</td></tr><td colspan=\"6\" style=\"border-bottom: 1px solid black\"></td></tr><tr><td style=\"text-align: left\">Observations</td><td>797</td><td>797</td><td>797</td><td>797</td><td>797</td></tr><tr><td style=\"text-align: left\">R<sup>2</sup></td><td>0.07394</td><td>0.93160</td><td>0.95024</td><td>0.95920</td><td>0.95920</td></tr><tr><td style=\"text-align: left\">Adjusted R<sup>2</sup></td><td>0.07277</td><td>0.93142</td><td>0.95012</td><td>0.95905</td><td>0.95905</td></tr><tr><td style=\"text-align: left\">Residual Std. Error</td><td>128983.98568 (df=795)</td><td>35077.52712 (df=794)</td><td>29916.29990 (df=794)</td><td>27106.64474 (df=793)</td><td>27106.64474 (df=793)</td></tr><tr><td style=\"text-align: left\">F Statistic</td><td>63.47287<sup>***</sup> (df=1; 795)</td><td>5406.77045<sup>***</sup> (df=2; 794)</td><td>7582.07245<sup>***</sup> (df=2; 794)</td><td>6214.92622<sup>***</sup> (df=3; 793)</td><td>6214.92622<sup>***</sup> (df=3; 793)</td></tr><tr><td colspan=\"6\" style=\"border-bottom: 1px solid black\"></td></tr><tr><td style=\"text-align: left\">Note:</td>\n",
       " <td colspan=\"5\" style=\"text-align: right\">\n",
       "  <sup>*</sup>p&lt;0.1;\n",
       "  <sup>**</sup>p&lt;0.05;\n",
       "  <sup>***</sup>p&lt;0.01\n",
       " </td></tr></table>"
      ],
      "text/plain": [
       "<stargazer.stargazer.Stargazer at 0x7f875c7ee310>"
      ]
     },
     "execution_count": 46,
     "metadata": {},
     "output_type": "execute_result"
    }
   ],
   "source": [
    "y1,X1 = dmatrices(\"num_exempts ~  totalObligated_Approved\",\n",
    "                data=progs[progs['disasterNumber']>0], return_type=\"dataframe\")\n",
    "model1 = sm.OLS(y1, X1)\n",
    "res1 = model1.fit()\n",
    "#res1.summary()\n",
    "\n",
    "y2,X2 = dmatrices(\"num_exempts ~  totalObligated_Approved + totalPop\",\n",
    "                data=progs[progs['disasterNumber']>0], return_type=\"dataframe\")\n",
    "model2 = sm.OLS(y2, X2)\n",
    "res2 = model2.fit()\n",
    "#res2.summary()\n",
    "\n",
    "y3,X3 = dmatrices(\"num_exempts ~  totalObligated_Approved+ AGI\",\n",
    "                data=progs[progs['disasterNumber']>0], return_type=\"dataframe\")\n",
    "model3 = sm.OLS(y3, X3)\n",
    "res3 = model3.fit()\n",
    "#res3.summary()\n",
    "\n",
    "y4,X4 = dmatrices(\"num_exempts ~  totalObligated_Approved + totalPop + AGI\",\n",
    "                data=progs[progs['disasterNumber']>0], return_type=\"dataframe\")\n",
    "model4 = sm.OLS(y4, X4)\n",
    "res4 = model4.fit()\n",
    "#res4.summary()\n",
    "\n",
    "#\n",
    "y5,X5 = dmatrices(\"num_exempts ~  totalObligated_Approved + totalPop + AGI+ disasterFlag\",\n",
    "                data=progs[progs['disasterNumber']>0], return_type=\"dataframe\")\n",
    "model5 = sm.OLS(y5, X5)\n",
    "res5 = model5.fit()\n",
    "\n",
    "stargazer=Stargazer([res1,res2,res3,res4,res5])\n",
    "stargazer.significant_digits(5)\n",
    "stargazer.title('Disasters, Funding, and Migration:Program Summary Lin-Lin')\n",
    "stargazer.covariate_order(['totalObligated_Approved','AGI','totalPop','disasterFlag'])\n",
    "stargazer.custom_columns(labels=['Model 1','Model 2', 'Model 3','Model 4', 'Model 5'],\n",
    "                         separators=[1,1,1,1,1])\n",
    "\n",
    "stargazer"
   ]
  },
  {
   "cell_type": "markdown",
   "metadata": {},
   "source": [
    "## Log-Lin Programs"
   ]
  },
  {
   "cell_type": "code",
   "execution_count": 47,
   "metadata": {},
   "outputs": [
    {
     "data": {
      "text/html": [
       "Disasters, Funding, and Migration:Program Summary Log-Lin<br><table style=\"text-align:center\"><tr><td colspan=\"6\" style=\"border-bottom: 1px solid black\"></td></tr><tr><td style=\"text-align:left\"></td><td colspan=\"5\"><em>Dependent variable:np.log(num_exempts)</em></td></tr><tr><td style=\"text-align:left\"></td><tr><td></td><td colspan=\"1\">Model 1</td><td colspan=\"1\">Model 2</td><td colspan=\"1\">Model 3</td><td colspan=\"1\">Model 4</td><td colspan=\"1\">Model 5</td></tr><tr><td style=\"text-align:left\"></td><td>(1)</td><td>(2)</td><td>(3)</td><td>(4)</td><td>(5)</td></tr><tr><td colspan=\"6\" style=\"border-bottom: 1px solid black\"></td></tr><tr><td style=\"text-align:left\">totalObligated_Approved</td><td>0.00000<sup>***</sup></td><td>-0.00000<sup></sup></td><td>-0.00000<sup>**</sup></td><td>-0.00000<sup></sup></td><td>-0.00000<sup></sup></td></tr><tr><td style=\"text-align:left\"></td><td>(0.00000)</td><td>(0.00000)</td><td>(0.00000)</td><td>(0.00000)</td><td>(0.00000)</td></tr><tr><td style=\"text-align:left\">AGI</td><td></td><td></td><td>0.00000<sup>***</sup></td><td>-0.00000<sup></sup></td><td>-0.00000<sup></sup></td></tr><tr><td style=\"text-align:left\"></td><td></td><td></td><td>(0.00000)</td><td>(0.00000)</td><td>(0.00000)</td></tr><tr><td style=\"text-align:left\">totalPop</td><td></td><td>0.00000<sup>***</sup></td><td></td><td>0.00000<sup>***</sup></td><td>0.00000<sup>***</sup></td></tr><tr><td style=\"text-align:left\"></td><td></td><td>(0.00000)</td><td></td><td>(0.00000)</td><td>(0.00000)</td></tr><tr><td style=\"text-align:left\">disasterFlag</td><td></td><td></td><td></td><td></td><td>4.48784<sup>***</sup></td></tr><tr><td style=\"text-align:left\"></td><td></td><td></td><td></td><td></td><td>(0.02862)</td></tr><td colspan=\"6\" style=\"border-bottom: 1px solid black\"></td></tr><tr><td style=\"text-align: left\">Observations</td><td>797</td><td>797</td><td>797</td><td>797</td><td>797</td></tr><tr><td style=\"text-align: left\">R<sup>2</sup></td><td>0.01956</td><td>0.44101</td><td>0.40731</td><td>0.44104</td><td>0.44104</td></tr><tr><td style=\"text-align: left\">Adjusted R<sup>2</sup></td><td>0.01833</td><td>0.43960</td><td>0.40582</td><td>0.43893</td><td>0.43893</td></tr><tr><td style=\"text-align: left\">Residual Std. Error</td><td>1.91033 (df=795)</td><td>1.44335 (df=794)</td><td>1.48623 (df=794)</td><td>1.44422 (df=793)</td><td>1.44422 (df=793)</td></tr><tr><td style=\"text-align: left\">F Statistic</td><td>15.86369<sup>***</sup> (df=1; 795)</td><td>313.21031<sup>***</sup> (df=2; 794)</td><td>272.82582<sup>***</sup> (df=2; 794)</td><td>208.56984<sup>***</sup> (df=3; 793)</td><td>208.56984<sup>***</sup> (df=3; 793)</td></tr><tr><td colspan=\"6\" style=\"border-bottom: 1px solid black\"></td></tr><tr><td style=\"text-align: left\">Note:</td>\n",
       " <td colspan=\"5\" style=\"text-align: right\">\n",
       "  <sup>*</sup>p&lt;0.1;\n",
       "  <sup>**</sup>p&lt;0.05;\n",
       "  <sup>***</sup>p&lt;0.01\n",
       " </td></tr></table>"
      ],
      "text/plain": [
       "<stargazer.stargazer.Stargazer at 0x7f875c8286d0>"
      ]
     },
     "execution_count": 47,
     "metadata": {},
     "output_type": "execute_result"
    }
   ],
   "source": [
    "y1,X1 = dmatrices(\"np.log(num_exempts) ~  totalObligated_Approved\",\n",
    "                data=progs[progs['disasterNumber']>0], return_type=\"dataframe\")\n",
    "model1 = sm.OLS(y1, X1)\n",
    "res1 = model1.fit()\n",
    "#res1.summary()\n",
    "\n",
    "y2,X2 = dmatrices(\"np.log(num_exempts) ~  totalObligated_Approved + totalPop\",\n",
    "                data=progs[progs['disasterNumber']>0], return_type=\"dataframe\")\n",
    "model2 = sm.OLS(y2, X2)\n",
    "res2 = model2.fit()\n",
    "#res2.summary()\n",
    "\n",
    "y3,X3 = dmatrices(\"np.log(num_exempts) ~  totalObligated_Approved+ AGI\",\n",
    "                data=progs[progs['disasterNumber']>0], return_type=\"dataframe\")\n",
    "model3 = sm.OLS(y3, X3)\n",
    "res3 = model3.fit()\n",
    "#res3.summary()\n",
    "\n",
    "y4,X4 = dmatrices(\"np.log(num_exempts) ~  totalObligated_Approved + totalPop + AGI\",\n",
    "                data=progs[progs['disasterNumber']>0], return_type=\"dataframe\")\n",
    "model4 = sm.OLS(y4, X4)\n",
    "res4 = model4.fit()\n",
    "#res4.summary()\n",
    "\n",
    "#\n",
    "y5,X5 = dmatrices(\"np.log(num_exempts) ~  totalObligated_Approved + totalPop + AGI+ disasterFlag\",\n",
    "                data=progs[progs['disasterNumber']>0], return_type=\"dataframe\")\n",
    "model5 = sm.OLS(y5, X5)\n",
    "res5 = model5.fit()\n",
    "\n",
    "stargazer=Stargazer([res1,res2,res3,res4,res5])\n",
    "stargazer.significant_digits(5)\n",
    "stargazer.title('Disasters, Funding, and Migration:Program Summary Log-Lin')\n",
    "stargazer.covariate_order(['totalObligated_Approved','AGI','totalPop','disasterFlag'])\n",
    "stargazer.custom_columns(labels=['Model 1','Model 2', 'Model 3','Model 4','Model 5'],\n",
    "                         separators=[1,1,1,1,1])\n",
    "stargazer"
   ]
  },
  {
   "cell_type": "code",
   "execution_count": 48,
   "metadata": {},
   "outputs": [
    {
     "data": {
      "text/html": [
       "Disasters, Funding, and Migration:Program Summary Lin-Log<br><table style=\"text-align:center\"><tr><td colspan=\"6\" style=\"border-bottom: 1px solid black\"></td></tr><tr><td style=\"text-align:left\"></td><td colspan=\"5\"><em>Dependent variable:num_exempts</em></td></tr><tr><td style=\"text-align:left\"></td><tr><td></td><td colspan=\"1\">Model 1</td><td colspan=\"1\">Model 2</td><td colspan=\"1\">Model 3</td><td colspan=\"1\">Model 4</td><td colspan=\"1\">Model 5</td></tr><tr><td style=\"text-align:left\"></td><td>(1)</td><td>(2)</td><td>(3)</td><td>(4)</td><td>(5)</td></tr><tr><td colspan=\"6\" style=\"border-bottom: 1px solid black\"></td></tr><tr><td style=\"text-align:left\">totObAp_log</td><td>-78.61183<sup></sup></td><td>139.89791<sup></sup></td><td>-456.15896<sup>**</sup></td><td>-240.28630<sup></sup></td><td>-240.28630<sup></sup></td></tr><tr><td style=\"text-align:left\"></td><td>(916.54867)</td><td>(239.97341)</td><td>(205.13288)</td><td>(186.53846)</td><td>(186.53846)</td></tr><tr><td style=\"text-align:left\">AGI</td><td></td><td></td><td>0.02725<sup>***</sup></td><td>0.01755<sup>***</sup></td><td>0.01755<sup>***</sup></td></tr><tr><td style=\"text-align:left\"></td><td></td><td></td><td>(0.00022)</td><td>(0.00076)</td><td>(0.00076)</td></tr><tr><td style=\"text-align:left\">totalPop</td><td></td><td>0.05497<sup>***</sup></td><td></td><td>0.02049<sup>***</sup></td><td>0.02049<sup>***</sup></td></tr><tr><td style=\"text-align:left\"></td><td></td><td>(0.00053)</td><td></td><td>(0.00155)</td><td>(0.00155)</td></tr><tr><td style=\"text-align:left\">disasterFlag</td><td></td><td></td><td></td><td></td><td>4448.05698<sup>***</sup></td></tr><tr><td style=\"text-align:left\"></td><td></td><td></td><td></td><td></td><td>(1413.06760)</td></tr><td colspan=\"6\" style=\"border-bottom: 1px solid black\"></td></tr><tr><td style=\"text-align: left\">Observations</td><td>797</td><td>797</td><td>797</td><td>797</td><td>797</td></tr><tr><td style=\"text-align: left\">R<sup>2</sup></td><td>0.00001</td><td>0.93154</td><td>0.94998</td><td>0.95901</td><td>0.95901</td></tr><tr><td style=\"text-align: left\">Adjusted R<sup>2</sup></td><td>-0.00125</td><td>0.93137</td><td>0.94986</td><td>0.95885</td><td>0.95885</td></tr><tr><td style=\"text-align: left\">Residual Std. Error</td><td>134033.54574 (df=795)</td><td>35091.70272 (df=794)</td><td>29994.69603 (df=794)</td><td>27170.99910 (df=793)</td><td>27170.99910 (df=793)</td></tr><tr><td style=\"text-align: left\">F Statistic</td><td>0.00736<sup></sup> (df=1; 795)</td><td>5402.08243<sup>***</sup> (df=2; 794)</td><td>7540.41769<sup>***</sup> (df=2; 794)</td><td>6184.27039<sup>***</sup> (df=3; 793)</td><td>6184.27039<sup>***</sup> (df=3; 793)</td></tr><tr><td colspan=\"6\" style=\"border-bottom: 1px solid black\"></td></tr><tr><td style=\"text-align: left\">Note:</td>\n",
       " <td colspan=\"5\" style=\"text-align: right\">\n",
       "  <sup>*</sup>p&lt;0.1;\n",
       "  <sup>**</sup>p&lt;0.05;\n",
       "  <sup>***</sup>p&lt;0.01\n",
       " </td></tr></table>"
      ],
      "text/plain": [
       "<stargazer.stargazer.Stargazer at 0x7f875c86a890>"
      ]
     },
     "execution_count": 48,
     "metadata": {},
     "output_type": "execute_result"
    }
   ],
   "source": [
    "y1,X1 = dmatrices(\"num_exempts ~ totObAp_log\",\n",
    "                data=progs[progs['disasterNumber']>0], return_type=\"dataframe\")\n",
    "model1 = sm.OLS(y1, X1)\n",
    "res1 = model1.fit()\n",
    "#res1.summary()\n",
    "\n",
    "y2,X2 = dmatrices(\"num_exempts ~  totObAp_log + totalPop\",\n",
    "                data=progs[progs['disasterNumber']>0], return_type=\"dataframe\")\n",
    "model2 = sm.OLS(y2, X2)\n",
    "res2 = model2.fit()\n",
    "#res2.summary()\n",
    "\n",
    "y3,X3 = dmatrices(\"num_exempts ~ totObAp_log + AGI\",\n",
    "                data=progs[progs['disasterNumber']>0], return_type=\"dataframe\")\n",
    "model3 = sm.OLS(y3, X3)\n",
    "res3 = model3.fit()\n",
    "#res3.summary()\n",
    "\n",
    "y4,X4 = dmatrices(\"num_exempts ~  totObAp_log + totalPop + AGI\",\n",
    "                data=progs[progs['disasterNumber']>0], return_type=\"dataframe\")\n",
    "model4 = sm.OLS(y4, X4)\n",
    "res4 = model4.fit()\n",
    "#res4.summary()\n",
    "\n",
    "#\n",
    "y5,X5 = dmatrices(\"num_exempts ~  totObAp_log + totalPop + AGI+ disasterFlag\",\n",
    "                data=progs[progs['disasterNumber']>0], return_type=\"dataframe\")\n",
    "model5 = sm.OLS(y5, X5)\n",
    "res5 = model5.fit()\n",
    "\n",
    "stargazer=Stargazer([res1,res2,res3,res4,res5])\n",
    "stargazer.significant_digits(5)\n",
    "stargazer.title('Disasters, Funding, and Migration:Program Summary Lin-Log')\n",
    "stargazer.covariate_order(['totObAp_log','AGI','totalPop','disasterFlag'])\n",
    "stargazer.custom_columns(labels=['Model 1','Model 2', 'Model 3','Model 4','Model 5'],\n",
    "                         separators=[1,1,1,1,1])\n",
    "stargazer"
   ]
  },
  {
   "cell_type": "code",
   "execution_count": 49,
   "metadata": {
    "scrolled": false
   },
   "outputs": [
    {
     "data": {
      "text/html": [
       "Disasters, Funding, and Migration:Program Summary Log-Log<br><table style=\"text-align:center\"><tr><td colspan=\"6\" style=\"border-bottom: 1px solid black\"></td></tr><tr><td style=\"text-align:left\"></td><td colspan=\"5\"><em>Dependent variable:np.log(num_exempts)</em></td></tr><tr><td style=\"text-align:left\"></td><tr><td></td><td colspan=\"1\">Model 1</td><td colspan=\"1\">Model 2</td><td colspan=\"1\">Model 3</td><td colspan=\"1\">Model 4</td><td colspan=\"1\">Model 5</td></tr><tr><td style=\"text-align:left\"></td><td>(1)</td><td>(2)</td><td>(3)</td><td>(4)</td><td>(5)</td></tr><tr><td colspan=\"6\" style=\"border-bottom: 1px solid black\"></td></tr><tr><td style=\"text-align:left\">totObAp_log</td><td>0.03528<sup>***</sup></td><td>0.03745<sup>***</sup></td><td>0.03175<sup>***</sup></td><td>0.03814<sup>***</sup></td><td>0.03814<sup>***</sup></td></tr><tr><td style=\"text-align:left\"></td><td>(0.01313)</td><td>(0.00980)</td><td>(0.01013)</td><td>(0.00984)</td><td>(0.00984)</td></tr><tr><td style=\"text-align:left\">AGI</td><td></td><td></td><td>0.00000<sup>***</sup></td><td>-0.00000<sup></sup></td><td>-0.00000<sup></sup></td></tr><tr><td style=\"text-align:left\"></td><td></td><td></td><td>(0.00000)</td><td>(0.00000)</td><td>(0.00000)</td></tr><tr><td style=\"text-align:left\">totalPop</td><td></td><td>0.00000<sup>***</sup></td><td></td><td>0.00000<sup>***</sup></td><td>0.00000<sup>***</sup></td></tr><tr><td style=\"text-align:left\"></td><td></td><td>(0.00000)</td><td></td><td>(0.00000)</td><td>(0.00000)</td></tr><tr><td style=\"text-align:left\">disasterFlag</td><td></td><td></td><td></td><td></td><td>4.22196<sup>***</sup></td></tr><tr><td style=\"text-align:left\"></td><td></td><td></td><td></td><td></td><td>(0.07452)</td></tr><td colspan=\"6\" style=\"border-bottom: 1px solid black\"></td></tr><tr><td style=\"text-align: left\">Observations</td><td>797</td><td>797</td><td>797</td><td>797</td><td>797</td></tr><tr><td style=\"text-align: left\">R<sup>2</sup></td><td>0.00900</td><td>0.44935</td><td>0.41157</td><td>0.44979</td><td>0.44979</td></tr><tr><td style=\"text-align: left\">Adjusted R<sup>2</sup></td><td>0.00775</td><td>0.44796</td><td>0.41008</td><td>0.44771</td><td>0.44771</td></tr><tr><td style=\"text-align: left\">Residual Std. Error</td><td>1.92059 (df=795)</td><td>1.43255 (df=794)</td><td>1.48088 (df=794)</td><td>1.43288 (df=793)</td><td>1.43288 (df=793)</td></tr><tr><td style=\"text-align: left\">F Statistic</td><td>7.21813<sup>***</sup> (df=1; 795)</td><td>323.96491<sup>***</sup> (df=2; 794)</td><td>277.67201<sup>***</sup> (df=2; 794)</td><td>216.09066<sup>***</sup> (df=3; 793)</td><td>216.09066<sup>***</sup> (df=3; 793)</td></tr><tr><td colspan=\"6\" style=\"border-bottom: 1px solid black\"></td></tr><tr><td style=\"text-align: left\">Note:</td>\n",
       " <td colspan=\"5\" style=\"text-align: right\">\n",
       "  <sup>*</sup>p&lt;0.1;\n",
       "  <sup>**</sup>p&lt;0.05;\n",
       "  <sup>***</sup>p&lt;0.01\n",
       " </td></tr></table>"
      ],
      "text/plain": [
       "<stargazer.stargazer.Stargazer at 0x7f875da2fbd0>"
      ]
     },
     "execution_count": 49,
     "metadata": {},
     "output_type": "execute_result"
    }
   ],
   "source": [
    "y1,X1 = dmatrices(\"np.log(num_exempts) ~ totObAp_log\",\n",
    "                data=progs[progs['disasterNumber']>0], return_type=\"dataframe\")\n",
    "model1 = sm.OLS(y1, X1)\n",
    "res1 = model1.fit()\n",
    "#res1.summary()\n",
    "\n",
    "y2,X2 = dmatrices(\"np.log(num_exempts) ~  totObAp_log + totalPop\",\n",
    "                data=progs[progs['disasterNumber']>0], return_type=\"dataframe\")\n",
    "model2 = sm.OLS(y2, X2)\n",
    "res2 = model2.fit()\n",
    "#res2.summary()\n",
    "\n",
    "y3,X3 = dmatrices(\"np.log(num_exempts) ~ totObAp_log + AGI\",\n",
    "                data=progs[progs['disasterNumber']>0], return_type=\"dataframe\")\n",
    "model3 = sm.OLS(y3, X3)\n",
    "res3 = model3.fit()\n",
    "#res3.summary()\n",
    "\n",
    "y4,X4 = dmatrices(\"np.log(num_exempts) ~  totObAp_log + totalPop + AGI\",\n",
    "                data=progs[progs['disasterNumber']>0], return_type=\"dataframe\")\n",
    "model4 = sm.OLS(y4, X4)\n",
    "res4 = model4.fit()\n",
    "#res4.summary()\n",
    "\n",
    "#\n",
    "y5,X5 = dmatrices(\"np.log(num_exempts) ~  totObAp_log + totalPop + AGI+ disasterFlag\",\n",
    "                data=progs[progs['disasterNumber']>0], return_type=\"dataframe\")\n",
    "model5 = sm.OLS(y5, X5)\n",
    "res5 = model5.fit()\n",
    "\n",
    "stargazer=Stargazer([res1,res2,res3,res4,res5])\n",
    "stargazer.significant_digits(5)\n",
    "stargazer.title('Disasters, Funding, and Migration:Program Summary Log-Log')\n",
    "stargazer.covariate_order(['totObAp_log','AGI','totalPop','disasterFlag'])\n",
    "stargazer.custom_columns(labels=['Model 1','Model 2', 'Model 3','Model 4','Model 5'],\n",
    "                         separators=[1,1,1,1,1])\n",
    "stargazer"
   ]
  },
  {
   "cell_type": "markdown",
   "metadata": {},
   "source": [
    "## Progs_df regression analysis"
   ]
  },
  {
   "cell_type": "code",
   "execution_count": 50,
   "metadata": {},
   "outputs": [],
   "source": [
    "#progs[progs['disasterNumber']>0]"
   ]
  },
  {
   "cell_type": "code",
   "execution_count": null,
   "metadata": {},
   "outputs": [],
   "source": []
  },
  {
   "cell_type": "code",
   "execution_count": 51,
   "metadata": {},
   "outputs": [],
   "source": [
    "# y1,X1 = dmatrices(\"num_exempts ~  totalObligated\",\n",
    "#                 data=progs[progs['disasterNumber']>0], return_type=\"dataframe\")\n",
    "# model1 = sm.OLS(y1, X1)\n",
    "# res1 = model1.fit()\n",
    "# #res1.summary()\n",
    "\n",
    "# y2,X2 = dmatrices(\"num_exempts ~  totalObligated + totalPop\",\n",
    "#                 data=progs[progs['disasterNumber']>0], return_type=\"dataframe\")\n",
    "# model2 = sm.OLS(y2, X2)\n",
    "# res2 = model2.fit()\n",
    "# #res2.summary()\n",
    "\n",
    "# y3,X3 = dmatrices(\"num_exempts ~  totalObligated+ AGI\",\n",
    "#                 data=progs[progs['disasterNumber']>0], return_type=\"dataframe\")\n",
    "# model3 = sm.OLS(y3, X3)\n",
    "# res3 = model3.fit()\n",
    "# #res3.summary()\n",
    "\n",
    "# y4,X4 = dmatrices(\"num_exempts ~  totalObligated + totalPop + AGI\",\n",
    "#                 data=progs[progs['disasterNumber']>0], return_type=\"dataframe\")\n",
    "# model4 = sm.OLS(y4, X4)\n",
    "# res4 = model4.fit()\n",
    "# #res4.summary()\n",
    "\n",
    "# stargazer=Stargazer([res1,res2,res3,res4])\n",
    "# stargazer.significant_digits(5)\n",
    "# stargazer.title('Disasters, Funding, and Migration:Program Summary Lin-Lin')\n",
    "# stargazer.covariate_order(['totalObligated','AGI','totalPop'])\n",
    "# stargazer.custom_columns(labels=['Model 1','Model 2', 'Model 3','Model 4'],\n",
    "#                          separators=[1,1,1,1])\n",
    "# stargazer"
   ]
  },
  {
   "cell_type": "markdown",
   "metadata": {},
   "source": [
    "##  Lin-Lin Programs"
   ]
  },
  {
   "cell_type": "code",
   "execution_count": 52,
   "metadata": {},
   "outputs": [
    {
     "data": {
      "text/html": [
       "Disasters, Funding, and Migration:Program Summary Lin-Lin<br><table style=\"text-align:center\"><tr><td colspan=\"6\" style=\"border-bottom: 1px solid black\"></td></tr><tr><td style=\"text-align:left\"></td><td colspan=\"5\"><em>Dependent variable:num_exempts</em></td></tr><tr><td style=\"text-align:left\"></td><tr><td></td><td colspan=\"1\">Model 1</td><td colspan=\"1\">Model 2</td><td colspan=\"1\">Model 3</td><td colspan=\"1\">Model 4</td><td colspan=\"1\">Model 5</td></tr><tr><td style=\"text-align:left\"></td><td>(1)</td><td>(2)</td><td>(3)</td><td>(4)</td><td>(5)</td></tr><tr><td colspan=\"6\" style=\"border-bottom: 1px solid black\"></td></tr><tr><td style=\"text-align:left\">totalObligated_Approved</td><td>0.00003<sup>***</sup></td><td>0.00000<sup></sup></td><td>-0.00000<sup>***</sup></td><td>-0.00000<sup>**</sup></td><td>-0.00000<sup>**</sup></td></tr><tr><td style=\"text-align:left\"></td><td>(0.00000)</td><td>(0.00000)</td><td>(0.00000)</td><td>(0.00000)</td><td>(0.00000)</td></tr><tr><td style=\"text-align:left\">AGI</td><td></td><td></td><td>0.02745<sup>***</sup></td><td>0.01774<sup>***</sup></td><td>0.01774<sup>***</sup></td></tr><tr><td style=\"text-align:left\"></td><td></td><td></td><td>(0.00023)</td><td>(0.00077)</td><td>(0.00077)</td></tr><tr><td style=\"text-align:left\">totalPop</td><td></td><td>0.05482<sup>***</sup></td><td></td><td>0.02039<sup>***</sup></td><td>0.02039<sup>***</sup></td></tr><tr><td style=\"text-align:left\"></td><td></td><td>(0.00055)</td><td></td><td>(0.00155)</td><td>(0.00155)</td></tr><tr><td style=\"text-align:left\">disasterFlag</td><td></td><td></td><td></td><td></td><td>2729.18909<sup>***</sup></td></tr><tr><td style=\"text-align:left\"></td><td></td><td></td><td></td><td></td><td>(537.25389)</td></tr><td colspan=\"6\" style=\"border-bottom: 1px solid black\"></td></tr><tr><td style=\"text-align: left\">Observations</td><td>797</td><td>797</td><td>797</td><td>797</td><td>797</td></tr><tr><td style=\"text-align: left\">R<sup>2</sup></td><td>0.07394</td><td>0.93160</td><td>0.95024</td><td>0.95920</td><td>0.95920</td></tr><tr><td style=\"text-align: left\">Adjusted R<sup>2</sup></td><td>0.07277</td><td>0.93142</td><td>0.95012</td><td>0.95905</td><td>0.95905</td></tr><tr><td style=\"text-align: left\">Residual Std. Error</td><td>128983.98568 (df=795)</td><td>35077.52712 (df=794)</td><td>29916.29990 (df=794)</td><td>27106.64474 (df=793)</td><td>27106.64474 (df=793)</td></tr><tr><td style=\"text-align: left\">F Statistic</td><td>63.47287<sup>***</sup> (df=1; 795)</td><td>5406.77045<sup>***</sup> (df=2; 794)</td><td>7582.07245<sup>***</sup> (df=2; 794)</td><td>6214.92622<sup>***</sup> (df=3; 793)</td><td>6214.92622<sup>***</sup> (df=3; 793)</td></tr><tr><td colspan=\"6\" style=\"border-bottom: 1px solid black\"></td></tr><tr><td style=\"text-align: left\">Note:</td>\n",
       " <td colspan=\"5\" style=\"text-align: right\">\n",
       "  <sup>*</sup>p&lt;0.1;\n",
       "  <sup>**</sup>p&lt;0.05;\n",
       "  <sup>***</sup>p&lt;0.01\n",
       " </td></tr></table>"
      ],
      "text/plain": [
       "<stargazer.stargazer.Stargazer at 0x7f875d9fb650>"
      ]
     },
     "execution_count": 52,
     "metadata": {},
     "output_type": "execute_result"
    }
   ],
   "source": [
    "y1,X1 = dmatrices(\"num_exempts ~  totalObligated_Approved\",\n",
    "                data=progs[progs['disasterNumber']>0], return_type=\"dataframe\")\n",
    "model1 = sm.OLS(y1, X1)\n",
    "res1 = model1.fit()\n",
    "#res1.summary()\n",
    "\n",
    "y2,X2 = dmatrices(\"num_exempts ~  totalObligated_Approved + totalPop\",\n",
    "                data=progs[progs['disasterNumber']>0], return_type=\"dataframe\")\n",
    "model2 = sm.OLS(y2, X2)\n",
    "res2 = model2.fit()\n",
    "#res2.summary()\n",
    "\n",
    "y3,X3 = dmatrices(\"num_exempts ~  totalObligated_Approved+ AGI\",\n",
    "                data=progs[progs['disasterNumber']>0], return_type=\"dataframe\")\n",
    "model3 = sm.OLS(y3, X3)\n",
    "res3 = model3.fit()\n",
    "#res3.summary()\n",
    "\n",
    "y4,X4 = dmatrices(\"num_exempts ~  totalObligated_Approved + totalPop + AGI\",\n",
    "                data=progs[progs['disasterNumber']>0], return_type=\"dataframe\")\n",
    "model4 = sm.OLS(y4, X4)\n",
    "res4 = model4.fit()\n",
    "#res4.summary()\n",
    "\n",
    "#\n",
    "y5,X5 = dmatrices(\"num_exempts ~  totalObligated_Approved + totalPop + AGI+ disasterFlag\",\n",
    "                data=progs[progs['disasterNumber']>0], return_type=\"dataframe\")\n",
    "model5 = sm.OLS(y5, X5)\n",
    "res5 = model5.fit()\n",
    "\n",
    "stargazer=Stargazer([res1,res2,res3,res4,res5])\n",
    "stargazer.significant_digits(5)\n",
    "stargazer.title('Disasters, Funding, and Migration:Program Summary Lin-Lin')\n",
    "stargazer.covariate_order(['totalObligated_Approved','AGI','totalPop','disasterFlag'])\n",
    "stargazer.custom_columns(labels=['Model 1','Model 2', 'Model 3','Model 4', 'Model 5'],\n",
    "                         separators=[1,1,1,1,1])\n",
    "\n",
    "stargazer"
   ]
  },
  {
   "cell_type": "markdown",
   "metadata": {},
   "source": [
    "## Log-Lin Programs"
   ]
  },
  {
   "cell_type": "code",
   "execution_count": 53,
   "metadata": {},
   "outputs": [
    {
     "data": {
      "text/html": [
       "Disasters, Funding, and Migration:Program Summary Log-Lin<br><table style=\"text-align:center\"><tr><td colspan=\"6\" style=\"border-bottom: 1px solid black\"></td></tr><tr><td style=\"text-align:left\"></td><td colspan=\"5\"><em>Dependent variable:np.log(num_exempts)</em></td></tr><tr><td style=\"text-align:left\"></td><tr><td></td><td colspan=\"1\">Model 1</td><td colspan=\"1\">Model 2</td><td colspan=\"1\">Model 3</td><td colspan=\"1\">Model 4</td><td colspan=\"1\">Model 5</td></tr><tr><td style=\"text-align:left\"></td><td>(1)</td><td>(2)</td><td>(3)</td><td>(4)</td><td>(5)</td></tr><tr><td colspan=\"6\" style=\"border-bottom: 1px solid black\"></td></tr><tr><td style=\"text-align:left\">totalObligated_Approved</td><td>0.00000<sup>***</sup></td><td>-0.00000<sup></sup></td><td>-0.00000<sup>**</sup></td><td>-0.00000<sup></sup></td><td>-0.00000<sup></sup></td></tr><tr><td style=\"text-align:left\"></td><td>(0.00000)</td><td>(0.00000)</td><td>(0.00000)</td><td>(0.00000)</td><td>(0.00000)</td></tr><tr><td style=\"text-align:left\">AGI</td><td></td><td></td><td>0.00000<sup>***</sup></td><td>-0.00000<sup></sup></td><td>-0.00000<sup></sup></td></tr><tr><td style=\"text-align:left\"></td><td></td><td></td><td>(0.00000)</td><td>(0.00000)</td><td>(0.00000)</td></tr><tr><td style=\"text-align:left\">totalPop</td><td></td><td>0.00000<sup>***</sup></td><td></td><td>0.00000<sup>***</sup></td><td>0.00000<sup>***</sup></td></tr><tr><td style=\"text-align:left\"></td><td></td><td>(0.00000)</td><td></td><td>(0.00000)</td><td>(0.00000)</td></tr><tr><td style=\"text-align:left\">disasterFlag</td><td></td><td></td><td></td><td></td><td>4.48784<sup>***</sup></td></tr><tr><td style=\"text-align:left\"></td><td></td><td></td><td></td><td></td><td>(0.02862)</td></tr><td colspan=\"6\" style=\"border-bottom: 1px solid black\"></td></tr><tr><td style=\"text-align: left\">Observations</td><td>797</td><td>797</td><td>797</td><td>797</td><td>797</td></tr><tr><td style=\"text-align: left\">R<sup>2</sup></td><td>0.01956</td><td>0.44101</td><td>0.40731</td><td>0.44104</td><td>0.44104</td></tr><tr><td style=\"text-align: left\">Adjusted R<sup>2</sup></td><td>0.01833</td><td>0.43960</td><td>0.40582</td><td>0.43893</td><td>0.43893</td></tr><tr><td style=\"text-align: left\">Residual Std. Error</td><td>1.91033 (df=795)</td><td>1.44335 (df=794)</td><td>1.48623 (df=794)</td><td>1.44422 (df=793)</td><td>1.44422 (df=793)</td></tr><tr><td style=\"text-align: left\">F Statistic</td><td>15.86369<sup>***</sup> (df=1; 795)</td><td>313.21031<sup>***</sup> (df=2; 794)</td><td>272.82582<sup>***</sup> (df=2; 794)</td><td>208.56984<sup>***</sup> (df=3; 793)</td><td>208.56984<sup>***</sup> (df=3; 793)</td></tr><tr><td colspan=\"6\" style=\"border-bottom: 1px solid black\"></td></tr><tr><td style=\"text-align: left\">Note:</td>\n",
       " <td colspan=\"5\" style=\"text-align: right\">\n",
       "  <sup>*</sup>p&lt;0.1;\n",
       "  <sup>**</sup>p&lt;0.05;\n",
       "  <sup>***</sup>p&lt;0.01\n",
       " </td></tr></table>"
      ],
      "text/plain": [
       "<stargazer.stargazer.Stargazer at 0x7f875da2c650>"
      ]
     },
     "execution_count": 53,
     "metadata": {},
     "output_type": "execute_result"
    }
   ],
   "source": [
    "y1,X1 = dmatrices(\"np.log(num_exempts) ~  totalObligated_Approved\",\n",
    "                data=progs[progs['disasterNumber']>0], return_type=\"dataframe\")\n",
    "model1 = sm.OLS(y1, X1)\n",
    "res1 = model1.fit()\n",
    "#res1.summary()\n",
    "\n",
    "y2,X2 = dmatrices(\"np.log(num_exempts) ~  totalObligated_Approved + totalPop\",\n",
    "                data=progs[progs['disasterNumber']>0], return_type=\"dataframe\")\n",
    "model2 = sm.OLS(y2, X2)\n",
    "res2 = model2.fit()\n",
    "#res2.summary()\n",
    "\n",
    "y3,X3 = dmatrices(\"np.log(num_exempts) ~  totalObligated_Approved+ AGI\",\n",
    "                data=progs[progs['disasterNumber']>0], return_type=\"dataframe\")\n",
    "model3 = sm.OLS(y3, X3)\n",
    "res3 = model3.fit()\n",
    "#res3.summary()\n",
    "\n",
    "y4,X4 = dmatrices(\"np.log(num_exempts) ~  totalObligated_Approved + totalPop + AGI\",\n",
    "                data=progs[progs['disasterNumber']>0], return_type=\"dataframe\")\n",
    "model4 = sm.OLS(y4, X4)\n",
    "res4 = model4.fit()\n",
    "#res4.summary()\n",
    "\n",
    "#\n",
    "y5,X5 = dmatrices(\"np.log(num_exempts) ~  totalObligated_Approved + totalPop + AGI+ disasterFlag\",\n",
    "                data=progs[progs['disasterNumber']>0], return_type=\"dataframe\")\n",
    "model5 = sm.OLS(y5, X5)\n",
    "res5 = model5.fit()\n",
    "\n",
    "stargazer=Stargazer([res1,res2,res3,res4,res5])\n",
    "stargazer.significant_digits(5)\n",
    "stargazer.title('Disasters, Funding, and Migration:Program Summary Log-Lin')\n",
    "stargazer.covariate_order(['totalObligated_Approved','AGI','totalPop','disasterFlag'])\n",
    "stargazer.custom_columns(labels=['Model 1','Model 2', 'Model 3','Model 4','Model 5'],\n",
    "                         separators=[1,1,1,1,1])\n",
    "stargazer"
   ]
  },
  {
   "cell_type": "code",
   "execution_count": 54,
   "metadata": {},
   "outputs": [
    {
     "data": {
      "text/html": [
       "Disasters, Funding, and Migration:Program Summary Lin-Log<br><table style=\"text-align:center\"><tr><td colspan=\"6\" style=\"border-bottom: 1px solid black\"></td></tr><tr><td style=\"text-align:left\"></td><td colspan=\"5\"><em>Dependent variable:num_exempts</em></td></tr><tr><td style=\"text-align:left\"></td><tr><td></td><td colspan=\"1\">Model 1</td><td colspan=\"1\">Model 2</td><td colspan=\"1\">Model 3</td><td colspan=\"1\">Model 4</td><td colspan=\"1\">Model 5</td></tr><tr><td style=\"text-align:left\"></td><td>(1)</td><td>(2)</td><td>(3)</td><td>(4)</td><td>(5)</td></tr><tr><td colspan=\"6\" style=\"border-bottom: 1px solid black\"></td></tr><tr><td style=\"text-align:left\">totObAp_log</td><td>-78.61183<sup></sup></td><td>139.89791<sup></sup></td><td>-456.15896<sup>**</sup></td><td>-240.28630<sup></sup></td><td>-240.28630<sup></sup></td></tr><tr><td style=\"text-align:left\"></td><td>(916.54867)</td><td>(239.97341)</td><td>(205.13288)</td><td>(186.53846)</td><td>(186.53846)</td></tr><tr><td style=\"text-align:left\">AGI</td><td></td><td></td><td>0.02725<sup>***</sup></td><td>0.01755<sup>***</sup></td><td>0.01755<sup>***</sup></td></tr><tr><td style=\"text-align:left\"></td><td></td><td></td><td>(0.00022)</td><td>(0.00076)</td><td>(0.00076)</td></tr><tr><td style=\"text-align:left\">totalPop</td><td></td><td>0.05497<sup>***</sup></td><td></td><td>0.02049<sup>***</sup></td><td>0.02049<sup>***</sup></td></tr><tr><td style=\"text-align:left\"></td><td></td><td>(0.00053)</td><td></td><td>(0.00155)</td><td>(0.00155)</td></tr><tr><td style=\"text-align:left\">disasterFlag</td><td></td><td></td><td></td><td></td><td>4448.05698<sup>***</sup></td></tr><tr><td style=\"text-align:left\"></td><td></td><td></td><td></td><td></td><td>(1413.06760)</td></tr><td colspan=\"6\" style=\"border-bottom: 1px solid black\"></td></tr><tr><td style=\"text-align: left\">Observations</td><td>797</td><td>797</td><td>797</td><td>797</td><td>797</td></tr><tr><td style=\"text-align: left\">R<sup>2</sup></td><td>0.00001</td><td>0.93154</td><td>0.94998</td><td>0.95901</td><td>0.95901</td></tr><tr><td style=\"text-align: left\">Adjusted R<sup>2</sup></td><td>-0.00125</td><td>0.93137</td><td>0.94986</td><td>0.95885</td><td>0.95885</td></tr><tr><td style=\"text-align: left\">Residual Std. Error</td><td>134033.54574 (df=795)</td><td>35091.70272 (df=794)</td><td>29994.69603 (df=794)</td><td>27170.99910 (df=793)</td><td>27170.99910 (df=793)</td></tr><tr><td style=\"text-align: left\">F Statistic</td><td>0.00736<sup></sup> (df=1; 795)</td><td>5402.08243<sup>***</sup> (df=2; 794)</td><td>7540.41769<sup>***</sup> (df=2; 794)</td><td>6184.27039<sup>***</sup> (df=3; 793)</td><td>6184.27039<sup>***</sup> (df=3; 793)</td></tr><tr><td colspan=\"6\" style=\"border-bottom: 1px solid black\"></td></tr><tr><td style=\"text-align: left\">Note:</td>\n",
       " <td colspan=\"5\" style=\"text-align: right\">\n",
       "  <sup>*</sup>p&lt;0.1;\n",
       "  <sup>**</sup>p&lt;0.05;\n",
       "  <sup>***</sup>p&lt;0.01\n",
       " </td></tr></table>"
      ],
      "text/plain": [
       "<stargazer.stargazer.Stargazer at 0x7f875d9f4550>"
      ]
     },
     "execution_count": 54,
     "metadata": {},
     "output_type": "execute_result"
    }
   ],
   "source": [
    "y1,X1 = dmatrices(\"num_exempts ~ totObAp_log\",\n",
    "                data=progs[progs['disasterNumber']>0], return_type=\"dataframe\")\n",
    "model1 = sm.OLS(y1, X1)\n",
    "res1 = model1.fit()\n",
    "#res1.summary()\n",
    "\n",
    "y2,X2 = dmatrices(\"num_exempts ~  totObAp_log + totalPop\",\n",
    "                data=progs[progs['disasterNumber']>0], return_type=\"dataframe\")\n",
    "model2 = sm.OLS(y2, X2)\n",
    "res2 = model2.fit()\n",
    "#res2.summary()\n",
    "\n",
    "y3,X3 = dmatrices(\"num_exempts ~ totObAp_log + AGI\",\n",
    "                data=progs[progs['disasterNumber']>0], return_type=\"dataframe\")\n",
    "model3 = sm.OLS(y3, X3)\n",
    "res3 = model3.fit()\n",
    "#res3.summary()\n",
    "\n",
    "y4,X4 = dmatrices(\"num_exempts ~  totObAp_log + totalPop + AGI\",\n",
    "                data=progs[progs['disasterNumber']>0], return_type=\"dataframe\")\n",
    "model4 = sm.OLS(y4, X4)\n",
    "res4 = model4.fit()\n",
    "#res4.summary()\n",
    "\n",
    "#\n",
    "y5,X5 = dmatrices(\"num_exempts ~  totObAp_log + totalPop + AGI+ disasterFlag\",\n",
    "                data=progs[progs['disasterNumber']>0], return_type=\"dataframe\")\n",
    "model5 = sm.OLS(y5, X5)\n",
    "res5 = model5.fit()\n",
    "\n",
    "stargazer=Stargazer([res1,res2,res3,res4,res5])\n",
    "stargazer.significant_digits(5)\n",
    "stargazer.title('Disasters, Funding, and Migration:Program Summary Lin-Log')\n",
    "stargazer.covariate_order(['totObAp_log','AGI','totalPop','disasterFlag'])\n",
    "stargazer.custom_columns(labels=['Model 1','Model 2', 'Model 3','Model 4','Model 5'],\n",
    "                         separators=[1,1,1,1,1])\n",
    "stargazer"
   ]
  },
  {
   "cell_type": "code",
   "execution_count": 55,
   "metadata": {
    "scrolled": true
   },
   "outputs": [
    {
     "data": {
      "text/html": [
       "Disasters, Funding, and Migration:Program Summary Log-Log<br><table style=\"text-align:center\"><tr><td colspan=\"6\" style=\"border-bottom: 1px solid black\"></td></tr><tr><td style=\"text-align:left\"></td><td colspan=\"5\"><em>Dependent variable:np.log(num_exempts)</em></td></tr><tr><td style=\"text-align:left\"></td><tr><td></td><td colspan=\"1\">Model 1</td><td colspan=\"1\">Model 2</td><td colspan=\"1\">Model 3</td><td colspan=\"1\">Model 4</td><td colspan=\"1\">Model 5</td></tr><tr><td style=\"text-align:left\"></td><td>(1)</td><td>(2)</td><td>(3)</td><td>(4)</td><td>(5)</td></tr><tr><td colspan=\"6\" style=\"border-bottom: 1px solid black\"></td></tr><tr><td style=\"text-align:left\">totObAp_log</td><td>0.03528<sup>***</sup></td><td>0.03745<sup>***</sup></td><td>0.03175<sup>***</sup></td><td>0.03814<sup>***</sup></td><td>0.03814<sup>***</sup></td></tr><tr><td style=\"text-align:left\"></td><td>(0.01313)</td><td>(0.00980)</td><td>(0.01013)</td><td>(0.00984)</td><td>(0.00984)</td></tr><tr><td style=\"text-align:left\">AGI</td><td></td><td></td><td>0.00000<sup>***</sup></td><td>-0.00000<sup></sup></td><td>-0.00000<sup></sup></td></tr><tr><td style=\"text-align:left\"></td><td></td><td></td><td>(0.00000)</td><td>(0.00000)</td><td>(0.00000)</td></tr><tr><td style=\"text-align:left\">totalPop</td><td></td><td>0.00000<sup>***</sup></td><td></td><td>0.00000<sup>***</sup></td><td>0.00000<sup>***</sup></td></tr><tr><td style=\"text-align:left\"></td><td></td><td>(0.00000)</td><td></td><td>(0.00000)</td><td>(0.00000)</td></tr><tr><td style=\"text-align:left\">disasterFlag</td><td></td><td></td><td></td><td></td><td>4.22196<sup>***</sup></td></tr><tr><td style=\"text-align:left\"></td><td></td><td></td><td></td><td></td><td>(0.07452)</td></tr><td colspan=\"6\" style=\"border-bottom: 1px solid black\"></td></tr><tr><td style=\"text-align: left\">Observations</td><td>797</td><td>797</td><td>797</td><td>797</td><td>797</td></tr><tr><td style=\"text-align: left\">R<sup>2</sup></td><td>0.00900</td><td>0.44935</td><td>0.41157</td><td>0.44979</td><td>0.44979</td></tr><tr><td style=\"text-align: left\">Adjusted R<sup>2</sup></td><td>0.00775</td><td>0.44796</td><td>0.41008</td><td>0.44771</td><td>0.44771</td></tr><tr><td style=\"text-align: left\">Residual Std. Error</td><td>1.92059 (df=795)</td><td>1.43255 (df=794)</td><td>1.48088 (df=794)</td><td>1.43288 (df=793)</td><td>1.43288 (df=793)</td></tr><tr><td style=\"text-align: left\">F Statistic</td><td>7.21813<sup>***</sup> (df=1; 795)</td><td>323.96491<sup>***</sup> (df=2; 794)</td><td>277.67201<sup>***</sup> (df=2; 794)</td><td>216.09066<sup>***</sup> (df=3; 793)</td><td>216.09066<sup>***</sup> (df=3; 793)</td></tr><tr><td colspan=\"6\" style=\"border-bottom: 1px solid black\"></td></tr><tr><td style=\"text-align: left\">Note:</td>\n",
       " <td colspan=\"5\" style=\"text-align: right\">\n",
       "  <sup>*</sup>p&lt;0.1;\n",
       "  <sup>**</sup>p&lt;0.05;\n",
       "  <sup>***</sup>p&lt;0.01\n",
       " </td></tr></table>"
      ],
      "text/plain": [
       "<stargazer.stargazer.Stargazer at 0x7f875e786f90>"
      ]
     },
     "execution_count": 55,
     "metadata": {},
     "output_type": "execute_result"
    }
   ],
   "source": [
    "y1,X1 = dmatrices(\"np.log(num_exempts) ~ totObAp_log\",\n",
    "                data=progs[progs['disasterNumber']>0], return_type=\"dataframe\")\n",
    "model1 = sm.OLS(y1, X1)\n",
    "res1 = model1.fit()\n",
    "#res1.summary()\n",
    "\n",
    "y2,X2 = dmatrices(\"np.log(num_exempts) ~  totObAp_log + totalPop\",\n",
    "                data=progs[progs['disasterNumber']>0], return_type=\"dataframe\")\n",
    "model2 = sm.OLS(y2, X2)\n",
    "res2 = model2.fit()\n",
    "#res2.summary()\n",
    "\n",
    "y3,X3 = dmatrices(\"np.log(num_exempts) ~ totObAp_log + AGI\",\n",
    "                data=progs[progs['disasterNumber']>0], return_type=\"dataframe\")\n",
    "model3 = sm.OLS(y3, X3)\n",
    "res3 = model3.fit()\n",
    "#res3.summary()\n",
    "\n",
    "y4,X4 = dmatrices(\"np.log(num_exempts) ~  totObAp_log + totalPop + AGI\",\n",
    "                data=progs[progs['disasterNumber']>0], return_type=\"dataframe\")\n",
    "model4 = sm.OLS(y4, X4)\n",
    "res4 = model4.fit()\n",
    "#res4.summary()\n",
    "\n",
    "#\n",
    "y5,X5 = dmatrices(\"np.log(num_exempts) ~  totObAp_log + totalPop + AGI+ disasterFlag\",\n",
    "                data=progs[progs['disasterNumber']>0], return_type=\"dataframe\")\n",
    "model5 = sm.OLS(y5, X5)\n",
    "res5 = model5.fit()\n",
    "\n",
    "stargazer=Stargazer([res1,res2,res3,res4,res5])\n",
    "stargazer.significant_digits(5)\n",
    "stargazer.title('Disasters, Funding, and Migration:Program Summary Log-Log')\n",
    "stargazer.covariate_order(['totObAp_log','AGI','totalPop','disasterFlag'])\n",
    "stargazer.custom_columns(labels=['Model 1','Model 2', 'Model 3','Model 4','Model 5'],\n",
    "                         separators=[1,1,1,1,1])\n",
    "stargazer"
   ]
  },
  {
   "cell_type": "code",
   "execution_count": null,
   "metadata": {},
   "outputs": [],
   "source": []
  },
  {
   "cell_type": "code",
   "execution_count": null,
   "metadata": {},
   "outputs": [],
   "source": []
  },
  {
   "cell_type": "code",
   "execution_count": null,
   "metadata": {},
   "outputs": [],
   "source": []
  },
  {
   "cell_type": "code",
   "execution_count": null,
   "metadata": {},
   "outputs": [],
   "source": []
  }
 ],
 "metadata": {
  "celltoolbar": "Raw Cell Format",
  "kernelspec": {
   "display_name": "gis_projects",
   "language": "python",
   "name": "gis_projects"
  },
  "language_info": {
   "codemirror_mode": {
    "name": "ipython",
    "version": 3
   },
   "file_extension": ".py",
   "mimetype": "text/x-python",
   "name": "python",
   "nbconvert_exporter": "python",
   "pygments_lexer": "ipython3",
   "version": "3.7.6"
  }
 },
 "nbformat": 4,
 "nbformat_minor": 4
}
